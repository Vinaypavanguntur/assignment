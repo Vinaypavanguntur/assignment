{
 "cells": [
  {
   "cell_type": "markdown",
   "metadata": {},
   "source": [
    "##### Library to deserialise model"
   ]
  },
  {
   "cell_type": "code",
   "execution_count": 6,
   "metadata": {},
   "outputs": [],
   "source": [
    "import pickle"
   ]
  },
  {
   "cell_type": "markdown",
   "metadata": {},
   "source": [
    "##### Load Model from file system"
   ]
  },
  {
   "cell_type": "code",
   "execution_count": 3,
   "metadata": {},
   "outputs": [
    {
     "data": {
      "text/plain": [
       "DecisionTreeRegressor(max_depth=8, random_state=0)"
      ]
     },
     "execution_count": 3,
     "metadata": {},
     "output_type": "execute_result"
    }
   ],
   "source": [
    "Pkl_Filename = r'C:\\Users\\vinay\\Downloads\\DecisionTreeRegressor_GridSearchCV.sav'  \n",
    "\n",
    "\n",
    "with open(Pkl_Filename, 'rb') as file:    \n",
    "    Pickled_LR_Model = pickle.load(file)     # unpickle (Deserialising model)\n",
    "\n",
    "Pickled_LR_Model"
   ]
  },
  {
   "cell_type": "markdown",
   "metadata": {},
   "source": [
    "##### Test Data"
   ]
  },
  {
   "cell_type": "code",
   "execution_count": 7,
   "metadata": {},
   "outputs": [],
   "source": [
    "test_data = [[39.00, 1, 1,103000,126000],\n",
    "            [373,10,10,1400000,2100000] , \n",
    "             [34.00,1,1,130000,144000] , \n",
    "             [451.60,13,13,1000000,1500000] , \n",
    "             [17.00,1,1,338000,373000],\n",
    "            [27.0,1,1,234000,350000],\n",
    "            [942.00,1,2,1550000,1700000]]  "
   ]
  },
  {
   "cell_type": "markdown",
   "metadata": {},
   "source": [
    "##### Show predictions"
   ]
  },
  {
   "cell_type": "code",
   "execution_count": 8,
   "metadata": {},
   "outputs": [
    {
     "name": "stdout",
     "output_type": "stream",
     "text": [
      "Predicted Number of Bedrooms for Client 1's home: 0  \n",
      "Predicted Number of Bedrooms for Client 2's home: 5  \n",
      "Predicted Number of Bedrooms for Client 3's home: 0  \n",
      "Predicted Number of Bedrooms for Client 4's home: 6  \n",
      "Predicted Number of Bedrooms for Client 5's home: 0  \n",
      "Predicted Number of Bedrooms for Client 6's home: 0  \n",
      "Predicted Number of Bedrooms for Client 7's home: 4  \n"
     ]
    }
   ],
   "source": [
    "for i, pred_bedrooms in enumerate(Pickled_LR_Model.predict(test_data)):\n",
    "    print(\"Predicted Number of Bedrooms for Client {}'s home: {}  \".format(i+1, int(pred_bedrooms)))"
   ]
  }
 ],
 "metadata": {
  "kernelspec": {
   "display_name": "Python 3",
   "language": "python",
   "name": "python3"
  },
  "language_info": {
   "codemirror_mode": {
    "name": "ipython",
    "version": 3
   },
   "file_extension": ".py",
   "mimetype": "text/x-python",
   "name": "python",
   "nbconvert_exporter": "python",
   "pygments_lexer": "ipython3",
   "version": "3.8.5"
  }
 },
 "nbformat": 4,
 "nbformat_minor": 4
}
