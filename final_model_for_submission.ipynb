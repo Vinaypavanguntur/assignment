{
 "cells": [
  {
   "cell_type": "markdown",
   "metadata": {},
   "source": [
    "# Name : Vinay Pavan GUNTUR\n",
    " # Phone : +447918118411\n",
    "  # Email : vinaypavanguntur@live.com"
   ]
  },
  {
   "cell_type": "markdown",
   "metadata": {},
   "source": [
    "#  LIBRARIES"
   ]
  },
  {
   "cell_type": "code",
   "execution_count": 1,
   "metadata": {},
   "outputs": [],
   "source": [
    "import numpy as np # Linear Algebra\n",
    "import pandas as pd # Data Analysis\n",
    "import matplotlib.pyplot as plt # Plotting Visualizations \n",
    "import seaborn as sns # Heat Maps Visualizations "
   ]
  },
  {
   "cell_type": "markdown",
   "metadata": {},
   "source": [
    "## Reading the json file "
   ]
  },
  {
   "cell_type": "code",
   "execution_count": 2,
   "metadata": {},
   "outputs": [
    {
     "name": "stdout",
     "output_type": "stream",
     "text": [
      "Dataset Imported\n"
     ]
    }
   ],
   "source": [
    "# Importing Datasets\n",
    "df=pd.read_json(\"street_group_data_science_bedrooms_test.json\",lines=True)\n",
    "print('Dataset Imported')"
   ]
  },
  {
   "cell_type": "code",
   "execution_count": 3,
   "metadata": {},
   "outputs": [
    {
     "data": {
      "text/html": [
       "<div>\n",
       "<style scoped>\n",
       "    .dataframe tbody tr th:only-of-type {\n",
       "        vertical-align: middle;\n",
       "    }\n",
       "\n",
       "    .dataframe tbody tr th {\n",
       "        vertical-align: top;\n",
       "    }\n",
       "\n",
       "    .dataframe thead th {\n",
       "        text-align: right;\n",
       "    }\n",
       "</style>\n",
       "<table border=\"1\" class=\"dataframe\">\n",
       "  <thead>\n",
       "    <tr style=\"text-align: right;\">\n",
       "      <th></th>\n",
       "      <th>property_type</th>\n",
       "      <th>total_floor_area</th>\n",
       "      <th>number_habitable_rooms</th>\n",
       "      <th>number_heated_rooms</th>\n",
       "      <th>estimated_min_price</th>\n",
       "      <th>estimated_max_price</th>\n",
       "      <th>latitude</th>\n",
       "      <th>longitude</th>\n",
       "      <th>bedrooms</th>\n",
       "    </tr>\n",
       "  </thead>\n",
       "  <tbody>\n",
       "    <tr>\n",
       "      <th>0</th>\n",
       "      <td>Flats/Maisonettes</td>\n",
       "      <td>39.00</td>\n",
       "      <td>1</td>\n",
       "      <td>1</td>\n",
       "      <td>103000</td>\n",
       "      <td>126000</td>\n",
       "      <td>52.164661</td>\n",
       "      <td>-1.856154</td>\n",
       "      <td>0</td>\n",
       "    </tr>\n",
       "    <tr>\n",
       "      <th>1</th>\n",
       "      <td>Flats/Maisonettes</td>\n",
       "      <td>24.00</td>\n",
       "      <td>1</td>\n",
       "      <td>1</td>\n",
       "      <td>36000</td>\n",
       "      <td>44000</td>\n",
       "      <td>52.523281</td>\n",
       "      <td>-2.054445</td>\n",
       "      <td>0</td>\n",
       "    </tr>\n",
       "    <tr>\n",
       "      <th>2</th>\n",
       "      <td>Flats/Maisonettes</td>\n",
       "      <td>25.00</td>\n",
       "      <td>1</td>\n",
       "      <td>1</td>\n",
       "      <td>187000</td>\n",
       "      <td>229000</td>\n",
       "      <td>51.386343</td>\n",
       "      <td>-0.108323</td>\n",
       "      <td>0</td>\n",
       "    </tr>\n",
       "    <tr>\n",
       "      <th>3</th>\n",
       "      <td>Flats/Maisonettes</td>\n",
       "      <td>27.00</td>\n",
       "      <td>1</td>\n",
       "      <td>1</td>\n",
       "      <td>234000</td>\n",
       "      <td>350000</td>\n",
       "      <td>51.416946</td>\n",
       "      <td>-0.151787</td>\n",
       "      <td>2</td>\n",
       "    </tr>\n",
       "    <tr>\n",
       "      <th>4</th>\n",
       "      <td>Flats/Maisonettes</td>\n",
       "      <td>29.00</td>\n",
       "      <td>1</td>\n",
       "      <td>1</td>\n",
       "      <td>185000</td>\n",
       "      <td>277000</td>\n",
       "      <td>52.915728</td>\n",
       "      <td>-1.475258</td>\n",
       "      <td>1</td>\n",
       "    </tr>\n",
       "    <tr>\n",
       "      <th>...</th>\n",
       "      <td>...</td>\n",
       "      <td>...</td>\n",
       "      <td>...</td>\n",
       "      <td>...</td>\n",
       "      <td>...</td>\n",
       "      <td>...</td>\n",
       "      <td>...</td>\n",
       "      <td>...</td>\n",
       "      <td>...</td>\n",
       "    </tr>\n",
       "    <tr>\n",
       "      <th>999995</th>\n",
       "      <td>Detached</td>\n",
       "      <td>241.00</td>\n",
       "      <td>10</td>\n",
       "      <td>10</td>\n",
       "      <td>1480000</td>\n",
       "      <td>1800000</td>\n",
       "      <td>51.329410</td>\n",
       "      <td>-0.362611</td>\n",
       "      <td>3</td>\n",
       "    </tr>\n",
       "    <tr>\n",
       "      <th>999996</th>\n",
       "      <td>Detached</td>\n",
       "      <td>286.00</td>\n",
       "      <td>10</td>\n",
       "      <td>10</td>\n",
       "      <td>1630000</td>\n",
       "      <td>1800000</td>\n",
       "      <td>51.380529</td>\n",
       "      <td>-0.430064</td>\n",
       "      <td>5</td>\n",
       "    </tr>\n",
       "    <tr>\n",
       "      <th>999997</th>\n",
       "      <td>Semi-Detached</td>\n",
       "      <td>250.00</td>\n",
       "      <td>10</td>\n",
       "      <td>10</td>\n",
       "      <td>1240000</td>\n",
       "      <td>1510000</td>\n",
       "      <td>51.309676</td>\n",
       "      <td>-0.306065</td>\n",
       "      <td>4</td>\n",
       "    </tr>\n",
       "    <tr>\n",
       "      <th>999998</th>\n",
       "      <td>Semi-Detached</td>\n",
       "      <td>218.00</td>\n",
       "      <td>10</td>\n",
       "      <td>10</td>\n",
       "      <td>454000</td>\n",
       "      <td>682000</td>\n",
       "      <td>54.160256</td>\n",
       "      <td>-0.778915</td>\n",
       "      <td>4</td>\n",
       "    </tr>\n",
       "    <tr>\n",
       "      <th>999999</th>\n",
       "      <td>Detached</td>\n",
       "      <td>373.04</td>\n",
       "      <td>10</td>\n",
       "      <td>10</td>\n",
       "      <td>1400000</td>\n",
       "      <td>2100000</td>\n",
       "      <td>54.062335</td>\n",
       "      <td>-1.324595</td>\n",
       "      <td>5</td>\n",
       "    </tr>\n",
       "  </tbody>\n",
       "</table>\n",
       "<p>1000000 rows × 9 columns</p>\n",
       "</div>"
      ],
      "text/plain": [
       "            property_type  total_floor_area  number_habitable_rooms  \\\n",
       "0       Flats/Maisonettes             39.00                       1   \n",
       "1       Flats/Maisonettes             24.00                       1   \n",
       "2       Flats/Maisonettes             25.00                       1   \n",
       "3       Flats/Maisonettes             27.00                       1   \n",
       "4       Flats/Maisonettes             29.00                       1   \n",
       "...                   ...               ...                     ...   \n",
       "999995           Detached            241.00                      10   \n",
       "999996           Detached            286.00                      10   \n",
       "999997      Semi-Detached            250.00                      10   \n",
       "999998      Semi-Detached            218.00                      10   \n",
       "999999           Detached            373.04                      10   \n",
       "\n",
       "        number_heated_rooms  estimated_min_price  estimated_max_price  \\\n",
       "0                         1               103000               126000   \n",
       "1                         1                36000                44000   \n",
       "2                         1               187000               229000   \n",
       "3                         1               234000               350000   \n",
       "4                         1               185000               277000   \n",
       "...                     ...                  ...                  ...   \n",
       "999995                   10              1480000              1800000   \n",
       "999996                   10              1630000              1800000   \n",
       "999997                   10              1240000              1510000   \n",
       "999998                   10               454000               682000   \n",
       "999999                   10              1400000              2100000   \n",
       "\n",
       "         latitude  longitude  bedrooms  \n",
       "0       52.164661  -1.856154         0  \n",
       "1       52.523281  -2.054445         0  \n",
       "2       51.386343  -0.108323         0  \n",
       "3       51.416946  -0.151787         2  \n",
       "4       52.915728  -1.475258         1  \n",
       "...           ...        ...       ...  \n",
       "999995  51.329410  -0.362611         3  \n",
       "999996  51.380529  -0.430064         5  \n",
       "999997  51.309676  -0.306065         4  \n",
       "999998  54.160256  -0.778915         4  \n",
       "999999  54.062335  -1.324595         5  \n",
       "\n",
       "[1000000 rows x 9 columns]"
      ]
     },
     "execution_count": 3,
     "metadata": {},
     "output_type": "execute_result"
    }
   ],
   "source": [
    "df"
   ]
  },
  {
   "cell_type": "code",
   "execution_count": 4,
   "metadata": {},
   "outputs": [
    {
     "data": {
      "text/html": [
       "<div>\n",
       "<style scoped>\n",
       "    .dataframe tbody tr th:only-of-type {\n",
       "        vertical-align: middle;\n",
       "    }\n",
       "\n",
       "    .dataframe tbody tr th {\n",
       "        vertical-align: top;\n",
       "    }\n",
       "\n",
       "    .dataframe thead th {\n",
       "        text-align: right;\n",
       "    }\n",
       "</style>\n",
       "<table border=\"1\" class=\"dataframe\">\n",
       "  <thead>\n",
       "    <tr style=\"text-align: right;\">\n",
       "      <th></th>\n",
       "      <th>property_type</th>\n",
       "      <th>total_floor_area</th>\n",
       "      <th>number_habitable_rooms</th>\n",
       "      <th>number_heated_rooms</th>\n",
       "      <th>estimated_min_price</th>\n",
       "      <th>estimated_max_price</th>\n",
       "      <th>latitude</th>\n",
       "      <th>longitude</th>\n",
       "      <th>bedrooms</th>\n",
       "    </tr>\n",
       "  </thead>\n",
       "  <tbody>\n",
       "    <tr>\n",
       "      <th>0</th>\n",
       "      <td>Flats/Maisonettes</td>\n",
       "      <td>39.0</td>\n",
       "      <td>1</td>\n",
       "      <td>1</td>\n",
       "      <td>103000</td>\n",
       "      <td>126000</td>\n",
       "      <td>52.164661</td>\n",
       "      <td>-1.856154</td>\n",
       "      <td>0</td>\n",
       "    </tr>\n",
       "    <tr>\n",
       "      <th>1</th>\n",
       "      <td>Flats/Maisonettes</td>\n",
       "      <td>24.0</td>\n",
       "      <td>1</td>\n",
       "      <td>1</td>\n",
       "      <td>36000</td>\n",
       "      <td>44000</td>\n",
       "      <td>52.523281</td>\n",
       "      <td>-2.054445</td>\n",
       "      <td>0</td>\n",
       "    </tr>\n",
       "    <tr>\n",
       "      <th>2</th>\n",
       "      <td>Flats/Maisonettes</td>\n",
       "      <td>25.0</td>\n",
       "      <td>1</td>\n",
       "      <td>1</td>\n",
       "      <td>187000</td>\n",
       "      <td>229000</td>\n",
       "      <td>51.386343</td>\n",
       "      <td>-0.108323</td>\n",
       "      <td>0</td>\n",
       "    </tr>\n",
       "    <tr>\n",
       "      <th>3</th>\n",
       "      <td>Flats/Maisonettes</td>\n",
       "      <td>27.0</td>\n",
       "      <td>1</td>\n",
       "      <td>1</td>\n",
       "      <td>234000</td>\n",
       "      <td>350000</td>\n",
       "      <td>51.416946</td>\n",
       "      <td>-0.151787</td>\n",
       "      <td>2</td>\n",
       "    </tr>\n",
       "    <tr>\n",
       "      <th>4</th>\n",
       "      <td>Flats/Maisonettes</td>\n",
       "      <td>29.0</td>\n",
       "      <td>1</td>\n",
       "      <td>1</td>\n",
       "      <td>185000</td>\n",
       "      <td>277000</td>\n",
       "      <td>52.915728</td>\n",
       "      <td>-1.475258</td>\n",
       "      <td>1</td>\n",
       "    </tr>\n",
       "  </tbody>\n",
       "</table>\n",
       "</div>"
      ],
      "text/plain": [
       "       property_type  total_floor_area  number_habitable_rooms  \\\n",
       "0  Flats/Maisonettes              39.0                       1   \n",
       "1  Flats/Maisonettes              24.0                       1   \n",
       "2  Flats/Maisonettes              25.0                       1   \n",
       "3  Flats/Maisonettes              27.0                       1   \n",
       "4  Flats/Maisonettes              29.0                       1   \n",
       "\n",
       "   number_heated_rooms  estimated_min_price  estimated_max_price   latitude  \\\n",
       "0                    1               103000               126000  52.164661   \n",
       "1                    1                36000                44000  52.523281   \n",
       "2                    1               187000               229000  51.386343   \n",
       "3                    1               234000               350000  51.416946   \n",
       "4                    1               185000               277000  52.915728   \n",
       "\n",
       "   longitude  bedrooms  \n",
       "0  -1.856154         0  \n",
       "1  -2.054445         0  \n",
       "2  -0.108323         0  \n",
       "3  -0.151787         2  \n",
       "4  -1.475258         1  "
      ]
     },
     "execution_count": 4,
     "metadata": {},
     "output_type": "execute_result"
    }
   ],
   "source": [
    "df.head() # Top 5 rows in the dataframe"
   ]
  },
  {
   "cell_type": "code",
   "execution_count": 5,
   "metadata": {},
   "outputs": [
    {
     "data": {
      "text/html": [
       "<div>\n",
       "<style scoped>\n",
       "    .dataframe tbody tr th:only-of-type {\n",
       "        vertical-align: middle;\n",
       "    }\n",
       "\n",
       "    .dataframe tbody tr th {\n",
       "        vertical-align: top;\n",
       "    }\n",
       "\n",
       "    .dataframe thead th {\n",
       "        text-align: right;\n",
       "    }\n",
       "</style>\n",
       "<table border=\"1\" class=\"dataframe\">\n",
       "  <thead>\n",
       "    <tr style=\"text-align: right;\">\n",
       "      <th></th>\n",
       "      <th>property_type</th>\n",
       "      <th>total_floor_area</th>\n",
       "      <th>number_habitable_rooms</th>\n",
       "      <th>number_heated_rooms</th>\n",
       "      <th>estimated_min_price</th>\n",
       "      <th>estimated_max_price</th>\n",
       "      <th>latitude</th>\n",
       "      <th>longitude</th>\n",
       "      <th>bedrooms</th>\n",
       "    </tr>\n",
       "  </thead>\n",
       "  <tbody>\n",
       "    <tr>\n",
       "      <th>999995</th>\n",
       "      <td>Detached</td>\n",
       "      <td>241.00</td>\n",
       "      <td>10</td>\n",
       "      <td>10</td>\n",
       "      <td>1480000</td>\n",
       "      <td>1800000</td>\n",
       "      <td>51.329410</td>\n",
       "      <td>-0.362611</td>\n",
       "      <td>3</td>\n",
       "    </tr>\n",
       "    <tr>\n",
       "      <th>999996</th>\n",
       "      <td>Detached</td>\n",
       "      <td>286.00</td>\n",
       "      <td>10</td>\n",
       "      <td>10</td>\n",
       "      <td>1630000</td>\n",
       "      <td>1800000</td>\n",
       "      <td>51.380529</td>\n",
       "      <td>-0.430064</td>\n",
       "      <td>5</td>\n",
       "    </tr>\n",
       "    <tr>\n",
       "      <th>999997</th>\n",
       "      <td>Semi-Detached</td>\n",
       "      <td>250.00</td>\n",
       "      <td>10</td>\n",
       "      <td>10</td>\n",
       "      <td>1240000</td>\n",
       "      <td>1510000</td>\n",
       "      <td>51.309676</td>\n",
       "      <td>-0.306065</td>\n",
       "      <td>4</td>\n",
       "    </tr>\n",
       "    <tr>\n",
       "      <th>999998</th>\n",
       "      <td>Semi-Detached</td>\n",
       "      <td>218.00</td>\n",
       "      <td>10</td>\n",
       "      <td>10</td>\n",
       "      <td>454000</td>\n",
       "      <td>682000</td>\n",
       "      <td>54.160256</td>\n",
       "      <td>-0.778915</td>\n",
       "      <td>4</td>\n",
       "    </tr>\n",
       "    <tr>\n",
       "      <th>999999</th>\n",
       "      <td>Detached</td>\n",
       "      <td>373.04</td>\n",
       "      <td>10</td>\n",
       "      <td>10</td>\n",
       "      <td>1400000</td>\n",
       "      <td>2100000</td>\n",
       "      <td>54.062335</td>\n",
       "      <td>-1.324595</td>\n",
       "      <td>5</td>\n",
       "    </tr>\n",
       "  </tbody>\n",
       "</table>\n",
       "</div>"
      ],
      "text/plain": [
       "        property_type  total_floor_area  number_habitable_rooms  \\\n",
       "999995       Detached            241.00                      10   \n",
       "999996       Detached            286.00                      10   \n",
       "999997  Semi-Detached            250.00                      10   \n",
       "999998  Semi-Detached            218.00                      10   \n",
       "999999       Detached            373.04                      10   \n",
       "\n",
       "        number_heated_rooms  estimated_min_price  estimated_max_price  \\\n",
       "999995                   10              1480000              1800000   \n",
       "999996                   10              1630000              1800000   \n",
       "999997                   10              1240000              1510000   \n",
       "999998                   10               454000               682000   \n",
       "999999                   10              1400000              2100000   \n",
       "\n",
       "         latitude  longitude  bedrooms  \n",
       "999995  51.329410  -0.362611         3  \n",
       "999996  51.380529  -0.430064         5  \n",
       "999997  51.309676  -0.306065         4  \n",
       "999998  54.160256  -0.778915         4  \n",
       "999999  54.062335  -1.324595         5  "
      ]
     },
     "execution_count": 5,
     "metadata": {},
     "output_type": "execute_result"
    }
   ],
   "source": [
    "df.tail() # Last 5 in the dataframe"
   ]
  },
  {
   "cell_type": "code",
   "execution_count": 6,
   "metadata": {},
   "outputs": [
    {
     "data": {
      "text/plain": [
       "(1000000, 9)"
      ]
     },
     "execution_count": 6,
     "metadata": {},
     "output_type": "execute_result"
    }
   ],
   "source": [
    "df.shape # Shape provides rows and columns"
   ]
  },
  {
   "cell_type": "code",
   "execution_count": 7,
   "metadata": {},
   "outputs": [
    {
     "data": {
      "text/plain": [
       "Index(['property_type', 'total_floor_area', 'number_habitable_rooms',\n",
       "       'number_heated_rooms', 'estimated_min_price', 'estimated_max_price',\n",
       "       'latitude', 'longitude', 'bedrooms'],\n",
       "      dtype='object')"
      ]
     },
     "execution_count": 7,
     "metadata": {},
     "output_type": "execute_result"
    }
   ],
   "source": [
    "df.columns # Providing column labels in the dataframe"
   ]
  },
  {
   "cell_type": "code",
   "execution_count": 8,
   "metadata": {},
   "outputs": [
    {
     "name": "stdout",
     "output_type": "stream",
     "text": [
      "<class 'pandas.core.frame.DataFrame'>\n",
      "RangeIndex: 1000000 entries, 0 to 999999\n",
      "Data columns (total 9 columns):\n",
      " #   Column                  Non-Null Count    Dtype  \n",
      "---  ------                  --------------    -----  \n",
      " 0   property_type           1000000 non-null  object \n",
      " 1   total_floor_area        1000000 non-null  float64\n",
      " 2   number_habitable_rooms  1000000 non-null  int64  \n",
      " 3   number_heated_rooms     1000000 non-null  int64  \n",
      " 4   estimated_min_price     1000000 non-null  int64  \n",
      " 5   estimated_max_price     1000000 non-null  int64  \n",
      " 6   latitude                1000000 non-null  float64\n",
      " 7   longitude               1000000 non-null  float64\n",
      " 8   bedrooms                1000000 non-null  int64  \n",
      "dtypes: float64(3), int64(5), object(1)\n",
      "memory usage: 68.7+ MB\n"
     ]
    }
   ],
   "source": [
    "df.info() # Summary of the dataframe"
   ]
  },
  {
   "cell_type": "code",
   "execution_count": 9,
   "metadata": {},
   "outputs": [
    {
     "data": {
      "text/plain": [
       "property_type             1000000\n",
       "total_floor_area          1000000\n",
       "number_habitable_rooms    1000000\n",
       "number_heated_rooms       1000000\n",
       "estimated_min_price       1000000\n",
       "estimated_max_price       1000000\n",
       "latitude                  1000000\n",
       "longitude                 1000000\n",
       "bedrooms                  1000000\n",
       "dtype: int64"
      ]
     },
     "execution_count": 9,
     "metadata": {},
     "output_type": "execute_result"
    }
   ],
   "source": [
    "df.isnull().count() # Detecting if any null values with count"
   ]
  },
  {
   "cell_type": "code",
   "execution_count": 10,
   "metadata": {},
   "outputs": [
    {
     "data": {
      "text/html": [
       "<div>\n",
       "<style scoped>\n",
       "    .dataframe tbody tr th:only-of-type {\n",
       "        vertical-align: middle;\n",
       "    }\n",
       "\n",
       "    .dataframe tbody tr th {\n",
       "        vertical-align: top;\n",
       "    }\n",
       "\n",
       "    .dataframe thead th {\n",
       "        text-align: right;\n",
       "    }\n",
       "</style>\n",
       "<table border=\"1\" class=\"dataframe\">\n",
       "  <thead>\n",
       "    <tr style=\"text-align: right;\">\n",
       "      <th></th>\n",
       "      <th>total_floor_area</th>\n",
       "      <th>number_habitable_rooms</th>\n",
       "      <th>number_heated_rooms</th>\n",
       "      <th>estimated_min_price</th>\n",
       "      <th>estimated_max_price</th>\n",
       "      <th>latitude</th>\n",
       "      <th>longitude</th>\n",
       "      <th>bedrooms</th>\n",
       "    </tr>\n",
       "  </thead>\n",
       "  <tbody>\n",
       "    <tr>\n",
       "      <th>count</th>\n",
       "      <td>1000000.000000</td>\n",
       "      <td>1000000.000000</td>\n",
       "      <td>1000000.000000</td>\n",
       "      <td>1.000000e+06</td>\n",
       "      <td>1.000000e+06</td>\n",
       "      <td>1000000.000000</td>\n",
       "      <td>1000000.000000</td>\n",
       "      <td>1000000.000000</td>\n",
       "    </tr>\n",
       "    <tr>\n",
       "      <th>mean</th>\n",
       "      <td>95.110280</td>\n",
       "      <td>4.731386</td>\n",
       "      <td>4.644062</td>\n",
       "      <td>3.258840e+05</td>\n",
       "      <td>3.768346e+05</td>\n",
       "      <td>52.341382</td>\n",
       "      <td>-1.304311</td>\n",
       "      <td>2.869454</td>\n",
       "    </tr>\n",
       "    <tr>\n",
       "      <th>std</th>\n",
       "      <td>77.209212</td>\n",
       "      <td>1.662938</td>\n",
       "      <td>1.677080</td>\n",
       "      <td>2.946820e+05</td>\n",
       "      <td>3.555607e+05</td>\n",
       "      <td>1.130432</td>\n",
       "      <td>1.298806</td>\n",
       "      <td>0.978529</td>\n",
       "    </tr>\n",
       "    <tr>\n",
       "      <th>min</th>\n",
       "      <td>0.000000</td>\n",
       "      <td>1.000000</td>\n",
       "      <td>0.000000</td>\n",
       "      <td>1.000000e+04</td>\n",
       "      <td>1.500000e+04</td>\n",
       "      <td>49.912711</td>\n",
       "      <td>-6.312345</td>\n",
       "      <td>0.000000</td>\n",
       "    </tr>\n",
       "    <tr>\n",
       "      <th>25%</th>\n",
       "      <td>68.812750</td>\n",
       "      <td>4.000000</td>\n",
       "      <td>4.000000</td>\n",
       "      <td>1.670000e+05</td>\n",
       "      <td>1.920000e+05</td>\n",
       "      <td>51.460908</td>\n",
       "      <td>-2.187930</td>\n",
       "      <td>2.000000</td>\n",
       "    </tr>\n",
       "    <tr>\n",
       "      <th>50%</th>\n",
       "      <td>85.000000</td>\n",
       "      <td>5.000000</td>\n",
       "      <td>5.000000</td>\n",
       "      <td>2.560000e+05</td>\n",
       "      <td>2.930000e+05</td>\n",
       "      <td>52.093607</td>\n",
       "      <td>-1.328639</td>\n",
       "      <td>3.000000</td>\n",
       "    </tr>\n",
       "    <tr>\n",
       "      <th>75%</th>\n",
       "      <td>108.000000</td>\n",
       "      <td>6.000000</td>\n",
       "      <td>5.000000</td>\n",
       "      <td>3.920000e+05</td>\n",
       "      <td>4.490000e+05</td>\n",
       "      <td>53.359308</td>\n",
       "      <td>-0.251483</td>\n",
       "      <td>3.000000</td>\n",
       "    </tr>\n",
       "    <tr>\n",
       "      <th>max</th>\n",
       "      <td>60506.700000</td>\n",
       "      <td>83.000000</td>\n",
       "      <td>83.000000</td>\n",
       "      <td>1.906000e+07</td>\n",
       "      <td>2.858000e+07</td>\n",
       "      <td>55.879634</td>\n",
       "      <td>1.757928</td>\n",
       "      <td>9.000000</td>\n",
       "    </tr>\n",
       "  </tbody>\n",
       "</table>\n",
       "</div>"
      ],
      "text/plain": [
       "       total_floor_area  number_habitable_rooms  number_heated_rooms  \\\n",
       "count    1000000.000000          1000000.000000       1000000.000000   \n",
       "mean          95.110280                4.731386             4.644062   \n",
       "std           77.209212                1.662938             1.677080   \n",
       "min            0.000000                1.000000             0.000000   \n",
       "25%           68.812750                4.000000             4.000000   \n",
       "50%           85.000000                5.000000             5.000000   \n",
       "75%          108.000000                6.000000             5.000000   \n",
       "max        60506.700000               83.000000            83.000000   \n",
       "\n",
       "       estimated_min_price  estimated_max_price        latitude  \\\n",
       "count         1.000000e+06         1.000000e+06  1000000.000000   \n",
       "mean          3.258840e+05         3.768346e+05       52.341382   \n",
       "std           2.946820e+05         3.555607e+05        1.130432   \n",
       "min           1.000000e+04         1.500000e+04       49.912711   \n",
       "25%           1.670000e+05         1.920000e+05       51.460908   \n",
       "50%           2.560000e+05         2.930000e+05       52.093607   \n",
       "75%           3.920000e+05         4.490000e+05       53.359308   \n",
       "max           1.906000e+07         2.858000e+07       55.879634   \n",
       "\n",
       "            longitude        bedrooms  \n",
       "count  1000000.000000  1000000.000000  \n",
       "mean        -1.304311        2.869454  \n",
       "std          1.298806        0.978529  \n",
       "min         -6.312345        0.000000  \n",
       "25%         -2.187930        2.000000  \n",
       "50%         -1.328639        3.000000  \n",
       "75%         -0.251483        3.000000  \n",
       "max          1.757928        9.000000  "
      ]
     },
     "execution_count": 10,
     "metadata": {},
     "output_type": "execute_result"
    }
   ],
   "source": [
    "df.describe() # Providing Descriptive Statistics"
   ]
  },
  {
   "cell_type": "code",
   "execution_count": 11,
   "metadata": {},
   "outputs": [
    {
     "data": {
      "image/png": "[encoded data removed]",
      "text/plain": [
       "<Figure size 432x288 with 9 Axes>"
      ]
     },
     "metadata": {
      "needs_background": "light"
     },
     "output_type": "display_data"
    }
   ],
   "source": [
    "import matplotlib.pyplot as plt \n",
    "df.hist() # Histogram provides the distribution of data\n",
    "plt.tight_layout()"
   ]
  },
  {
   "cell_type": "code",
   "execution_count": 12,
   "metadata": {},
   "outputs": [
    {
     "data": {
      "text/plain": [
       "array(['Flats/Maisonettes', 'Detached', 'Terraced', 'Semi-Detached'],\n",
       "      dtype=object)"
      ]
     },
     "execution_count": 12,
     "metadata": {},
     "output_type": "execute_result"
    }
   ],
   "source": [
    "df['property_type'].unique() # Providing the unique values from the property type column"
   ]
  },
  {
   "cell_type": "code",
   "execution_count": 13,
   "metadata": {},
   "outputs": [
    {
     "data": {
      "text/plain": [
       "array([0, 2, 1, 6, 3, 5, 7, 4, 8, 9], dtype=int64)"
      ]
     },
     "execution_count": 13,
     "metadata": {},
     "output_type": "execute_result"
    }
   ],
   "source": [
    "df['bedrooms'].unique() # Providing the unique values from the bedrooms column"
   ]
  },
  {
   "cell_type": "code",
   "execution_count": 14,
   "metadata": {},
   "outputs": [
    {
     "data": {
      "text/plain": [
       "property_type                  4\n",
       "total_floor_area           28369\n",
       "number_habitable_rooms        53\n",
       "number_heated_rooms           37\n",
       "estimated_min_price         1551\n",
       "estimated_max_price         1681\n",
       "latitude                  503461\n",
       "longitude                 518892\n",
       "bedrooms                      10\n",
       "dtype: int64"
      ]
     },
     "execution_count": 14,
     "metadata": {},
     "output_type": "execute_result"
    }
   ],
   "source": [
    "df.nunique() # Providing the unique values from the whole dataset"
   ]
  },
  {
   "cell_type": "markdown",
   "metadata": {},
   "source": [
    "## Using loc and iloc\n",
    "#### loc methods show with particular labels & iloc method shows the rows"
   ]
  },
  {
   "cell_type": "code",
   "execution_count": 15,
   "metadata": {},
   "outputs": [
    {
     "data": {
      "text/html": [
       "<div>\n",
       "<style scoped>\n",
       "    .dataframe tbody tr th:only-of-type {\n",
       "        vertical-align: middle;\n",
       "    }\n",
       "\n",
       "    .dataframe tbody tr th {\n",
       "        vertical-align: top;\n",
       "    }\n",
       "\n",
       "    .dataframe thead th {\n",
       "        text-align: right;\n",
       "    }\n",
       "</style>\n",
       "<table border=\"1\" class=\"dataframe\">\n",
       "  <thead>\n",
       "    <tr style=\"text-align: right;\">\n",
       "      <th></th>\n",
       "      <th>property_type</th>\n",
       "      <th>total_floor_area</th>\n",
       "      <th>number_habitable_rooms</th>\n",
       "      <th>number_heated_rooms</th>\n",
       "      <th>estimated_min_price</th>\n",
       "      <th>estimated_max_price</th>\n",
       "      <th>latitude</th>\n",
       "      <th>longitude</th>\n",
       "      <th>bedrooms</th>\n",
       "    </tr>\n",
       "  </thead>\n",
       "  <tbody>\n",
       "    <tr>\n",
       "      <th>14</th>\n",
       "      <td>Detached</td>\n",
       "      <td>523.00</td>\n",
       "      <td>13</td>\n",
       "      <td>13</td>\n",
       "      <td>2590000</td>\n",
       "      <td>3160000</td>\n",
       "      <td>51.267912</td>\n",
       "      <td>0.180872</td>\n",
       "      <td>7</td>\n",
       "    </tr>\n",
       "    <tr>\n",
       "      <th>19</th>\n",
       "      <td>Detached</td>\n",
       "      <td>451.60</td>\n",
       "      <td>13</td>\n",
       "      <td>13</td>\n",
       "      <td>1000000</td>\n",
       "      <td>1500000</td>\n",
       "      <td>51.360618</td>\n",
       "      <td>0.352150</td>\n",
       "      <td>7</td>\n",
       "    </tr>\n",
       "    <tr>\n",
       "      <th>27</th>\n",
       "      <td>Detached</td>\n",
       "      <td>311.92</td>\n",
       "      <td>11</td>\n",
       "      <td>11</td>\n",
       "      <td>868000</td>\n",
       "      <td>1060000</td>\n",
       "      <td>53.398705</td>\n",
       "      <td>-0.944712</td>\n",
       "      <td>7</td>\n",
       "    </tr>\n",
       "    <tr>\n",
       "      <th>32</th>\n",
       "      <td>Detached</td>\n",
       "      <td>445.70</td>\n",
       "      <td>14</td>\n",
       "      <td>14</td>\n",
       "      <td>1010000</td>\n",
       "      <td>1240000</td>\n",
       "      <td>53.055926</td>\n",
       "      <td>-2.568774</td>\n",
       "      <td>7</td>\n",
       "    </tr>\n",
       "    <tr>\n",
       "      <th>51</th>\n",
       "      <td>Detached</td>\n",
       "      <td>526.00</td>\n",
       "      <td>11</td>\n",
       "      <td>11</td>\n",
       "      <td>3460000</td>\n",
       "      <td>3830000</td>\n",
       "      <td>52.144434</td>\n",
       "      <td>0.137739</td>\n",
       "      <td>7</td>\n",
       "    </tr>\n",
       "    <tr>\n",
       "      <th>...</th>\n",
       "      <td>...</td>\n",
       "      <td>...</td>\n",
       "      <td>...</td>\n",
       "      <td>...</td>\n",
       "      <td>...</td>\n",
       "      <td>...</td>\n",
       "      <td>...</td>\n",
       "      <td>...</td>\n",
       "      <td>...</td>\n",
       "    </tr>\n",
       "    <tr>\n",
       "      <th>999935</th>\n",
       "      <td>Terraced</td>\n",
       "      <td>133.14</td>\n",
       "      <td>10</td>\n",
       "      <td>10</td>\n",
       "      <td>354000</td>\n",
       "      <td>433000</td>\n",
       "      <td>54.602201</td>\n",
       "      <td>-3.138537</td>\n",
       "      <td>7</td>\n",
       "    </tr>\n",
       "    <tr>\n",
       "      <th>999938</th>\n",
       "      <td>Semi-Detached</td>\n",
       "      <td>282.00</td>\n",
       "      <td>10</td>\n",
       "      <td>10</td>\n",
       "      <td>610000</td>\n",
       "      <td>746000</td>\n",
       "      <td>51.647133</td>\n",
       "      <td>-4.794123</td>\n",
       "      <td>7</td>\n",
       "    </tr>\n",
       "    <tr>\n",
       "      <th>999950</th>\n",
       "      <td>Semi-Detached</td>\n",
       "      <td>166.91</td>\n",
       "      <td>10</td>\n",
       "      <td>10</td>\n",
       "      <td>167000</td>\n",
       "      <td>250000</td>\n",
       "      <td>52.593240</td>\n",
       "      <td>-2.131170</td>\n",
       "      <td>7</td>\n",
       "    </tr>\n",
       "    <tr>\n",
       "      <th>999967</th>\n",
       "      <td>Detached</td>\n",
       "      <td>287.14</td>\n",
       "      <td>10</td>\n",
       "      <td>10</td>\n",
       "      <td>2520000</td>\n",
       "      <td>3090000</td>\n",
       "      <td>51.756827</td>\n",
       "      <td>-0.329940</td>\n",
       "      <td>7</td>\n",
       "    </tr>\n",
       "    <tr>\n",
       "      <th>999972</th>\n",
       "      <td>Detached</td>\n",
       "      <td>205.00</td>\n",
       "      <td>10</td>\n",
       "      <td>10</td>\n",
       "      <td>1000000</td>\n",
       "      <td>1110000</td>\n",
       "      <td>50.726672</td>\n",
       "      <td>-1.605015</td>\n",
       "      <td>7</td>\n",
       "    </tr>\n",
       "  </tbody>\n",
       "</table>\n",
       "<p>1864 rows × 9 columns</p>\n",
       "</div>"
      ],
      "text/plain": [
       "        property_type  total_floor_area  number_habitable_rooms  \\\n",
       "14           Detached            523.00                      13   \n",
       "19           Detached            451.60                      13   \n",
       "27           Detached            311.92                      11   \n",
       "32           Detached            445.70                      14   \n",
       "51           Detached            526.00                      11   \n",
       "...               ...               ...                     ...   \n",
       "999935       Terraced            133.14                      10   \n",
       "999938  Semi-Detached            282.00                      10   \n",
       "999950  Semi-Detached            166.91                      10   \n",
       "999967       Detached            287.14                      10   \n",
       "999972       Detached            205.00                      10   \n",
       "\n",
       "        number_heated_rooms  estimated_min_price  estimated_max_price  \\\n",
       "14                       13              2590000              3160000   \n",
       "19                       13              1000000              1500000   \n",
       "27                       11               868000              1060000   \n",
       "32                       14              1010000              1240000   \n",
       "51                       11              3460000              3830000   \n",
       "...                     ...                  ...                  ...   \n",
       "999935                   10               354000               433000   \n",
       "999938                   10               610000               746000   \n",
       "999950                   10               167000               250000   \n",
       "999967                   10              2520000              3090000   \n",
       "999972                   10              1000000              1110000   \n",
       "\n",
       "         latitude  longitude  bedrooms  \n",
       "14      51.267912   0.180872         7  \n",
       "19      51.360618   0.352150         7  \n",
       "27      53.398705  -0.944712         7  \n",
       "32      53.055926  -2.568774         7  \n",
       "51      52.144434   0.137739         7  \n",
       "...           ...        ...       ...  \n",
       "999935  54.602201  -3.138537         7  \n",
       "999938  51.647133  -4.794123         7  \n",
       "999950  52.593240  -2.131170         7  \n",
       "999967  51.756827  -0.329940         7  \n",
       "999972  50.726672  -1.605015         7  \n",
       "\n",
       "[1864 rows x 9 columns]"
      ]
     },
     "execution_count": 15,
     "metadata": {},
     "output_type": "execute_result"
    }
   ],
   "source": [
    "df.loc[df['bedrooms'] == 7]"
   ]
  },
  {
   "cell_type": "code",
   "execution_count": 16,
   "metadata": {},
   "outputs": [
    {
     "data": {
      "text/plain": [
       "property_type             1864\n",
       "total_floor_area          1864\n",
       "number_habitable_rooms    1864\n",
       "number_heated_rooms       1864\n",
       "estimated_min_price       1864\n",
       "estimated_max_price       1864\n",
       "latitude                  1864\n",
       "longitude                 1864\n",
       "bedrooms                  1864\n",
       "dtype: int64"
      ]
     },
     "execution_count": 16,
     "metadata": {},
     "output_type": "execute_result"
    }
   ],
   "source": [
    "df.loc[df['bedrooms'] == 7].count()"
   ]
  },
  {
   "cell_type": "code",
   "execution_count": 17,
   "metadata": {},
   "outputs": [
    {
     "data": {
      "text/html": [
       "<div>\n",
       "<style scoped>\n",
       "    .dataframe tbody tr th:only-of-type {\n",
       "        vertical-align: middle;\n",
       "    }\n",
       "\n",
       "    .dataframe tbody tr th {\n",
       "        vertical-align: top;\n",
       "    }\n",
       "\n",
       "    .dataframe thead th {\n",
       "        text-align: right;\n",
       "    }\n",
       "</style>\n",
       "<table border=\"1\" class=\"dataframe\">\n",
       "  <thead>\n",
       "    <tr style=\"text-align: right;\">\n",
       "      <th></th>\n",
       "      <th>property_type</th>\n",
       "      <th>total_floor_area</th>\n",
       "      <th>number_habitable_rooms</th>\n",
       "      <th>number_heated_rooms</th>\n",
       "      <th>estimated_min_price</th>\n",
       "      <th>estimated_max_price</th>\n",
       "      <th>latitude</th>\n",
       "      <th>longitude</th>\n",
       "      <th>bedrooms</th>\n",
       "    </tr>\n",
       "  </thead>\n",
       "  <tbody>\n",
       "    <tr>\n",
       "      <th>1520</th>\n",
       "      <td>Flats/Maisonettes</td>\n",
       "      <td>39.260</td>\n",
       "      <td>1</td>\n",
       "      <td>1</td>\n",
       "      <td>293000</td>\n",
       "      <td>358000</td>\n",
       "      <td>51.421219</td>\n",
       "      <td>-0.302923</td>\n",
       "      <td>1</td>\n",
       "    </tr>\n",
       "    <tr>\n",
       "      <th>1521</th>\n",
       "      <td>Terraced</td>\n",
       "      <td>100.000</td>\n",
       "      <td>1</td>\n",
       "      <td>1</td>\n",
       "      <td>680000</td>\n",
       "      <td>752000</td>\n",
       "      <td>51.420640</td>\n",
       "      <td>-0.298342</td>\n",
       "      <td>4</td>\n",
       "    </tr>\n",
       "    <tr>\n",
       "      <th>1522</th>\n",
       "      <td>Detached</td>\n",
       "      <td>385.000</td>\n",
       "      <td>14</td>\n",
       "      <td>14</td>\n",
       "      <td>2730000</td>\n",
       "      <td>3330000</td>\n",
       "      <td>51.416988</td>\n",
       "      <td>-0.253650</td>\n",
       "      <td>6</td>\n",
       "    </tr>\n",
       "    <tr>\n",
       "      <th>1523</th>\n",
       "      <td>Detached</td>\n",
       "      <td>211.002</td>\n",
       "      <td>11</td>\n",
       "      <td>11</td>\n",
       "      <td>2290000</td>\n",
       "      <td>2530000</td>\n",
       "      <td>51.355201</td>\n",
       "      <td>-0.346022</td>\n",
       "      <td>7</td>\n",
       "    </tr>\n",
       "    <tr>\n",
       "      <th>1524</th>\n",
       "      <td>Flats/Maisonettes</td>\n",
       "      <td>35.700</td>\n",
       "      <td>1</td>\n",
       "      <td>1</td>\n",
       "      <td>201000</td>\n",
       "      <td>246000</td>\n",
       "      <td>51.390716</td>\n",
       "      <td>-2.353311</td>\n",
       "      <td>1</td>\n",
       "    </tr>\n",
       "    <tr>\n",
       "      <th>1525</th>\n",
       "      <td>Detached</td>\n",
       "      <td>423.000</td>\n",
       "      <td>13</td>\n",
       "      <td>13</td>\n",
       "      <td>468000</td>\n",
       "      <td>572000</td>\n",
       "      <td>53.762782</td>\n",
       "      <td>-1.898360</td>\n",
       "      <td>6</td>\n",
       "    </tr>\n",
       "    <tr>\n",
       "      <th>1526</th>\n",
       "      <td>Detached</td>\n",
       "      <td>343.000</td>\n",
       "      <td>11</td>\n",
       "      <td>11</td>\n",
       "      <td>543000</td>\n",
       "      <td>664000</td>\n",
       "      <td>53.707692</td>\n",
       "      <td>-1.996751</td>\n",
       "      <td>3</td>\n",
       "    </tr>\n",
       "    <tr>\n",
       "      <th>1527</th>\n",
       "      <td>Detached</td>\n",
       "      <td>235.400</td>\n",
       "      <td>12</td>\n",
       "      <td>12</td>\n",
       "      <td>318000</td>\n",
       "      <td>478000</td>\n",
       "      <td>53.783809</td>\n",
       "      <td>-0.310242</td>\n",
       "      <td>7</td>\n",
       "    </tr>\n",
       "    <tr>\n",
       "      <th>1528</th>\n",
       "      <td>Detached</td>\n",
       "      <td>466.000</td>\n",
       "      <td>13</td>\n",
       "      <td>13</td>\n",
       "      <td>2100000</td>\n",
       "      <td>2560000</td>\n",
       "      <td>51.615370</td>\n",
       "      <td>0.079155</td>\n",
       "      <td>6</td>\n",
       "    </tr>\n",
       "    <tr>\n",
       "      <th>1529</th>\n",
       "      <td>Flats/Maisonettes</td>\n",
       "      <td>27.000</td>\n",
       "      <td>1</td>\n",
       "      <td>1</td>\n",
       "      <td>65000</td>\n",
       "      <td>72000</td>\n",
       "      <td>53.850404</td>\n",
       "      <td>-0.431005</td>\n",
       "      <td>0</td>\n",
       "    </tr>\n",
       "  </tbody>\n",
       "</table>\n",
       "</div>"
      ],
      "text/plain": [
       "          property_type  total_floor_area  number_habitable_rooms  \\\n",
       "1520  Flats/Maisonettes            39.260                       1   \n",
       "1521           Terraced           100.000                       1   \n",
       "1522           Detached           385.000                      14   \n",
       "1523           Detached           211.002                      11   \n",
       "1524  Flats/Maisonettes            35.700                       1   \n",
       "1525           Detached           423.000                      13   \n",
       "1526           Detached           343.000                      11   \n",
       "1527           Detached           235.400                      12   \n",
       "1528           Detached           466.000                      13   \n",
       "1529  Flats/Maisonettes            27.000                       1   \n",
       "\n",
       "      number_heated_rooms  estimated_min_price  estimated_max_price  \\\n",
       "1520                    1               293000               358000   \n",
       "1521                    1               680000               752000   \n",
       "1522                   14              2730000              3330000   \n",
       "1523                   11              2290000              2530000   \n",
       "1524                    1               201000               246000   \n",
       "1525                   13               468000               572000   \n",
       "1526                   11               543000               664000   \n",
       "1527                   12               318000               478000   \n",
       "1528                   13              2100000              2560000   \n",
       "1529                    1                65000                72000   \n",
       "\n",
       "       latitude  longitude  bedrooms  \n",
       "1520  51.421219  -0.302923         1  \n",
       "1521  51.420640  -0.298342         4  \n",
       "1522  51.416988  -0.253650         6  \n",
       "1523  51.355201  -0.346022         7  \n",
       "1524  51.390716  -2.353311         1  \n",
       "1525  53.762782  -1.898360         6  \n",
       "1526  53.707692  -1.996751         3  \n",
       "1527  53.783809  -0.310242         7  \n",
       "1528  51.615370   0.079155         6  \n",
       "1529  53.850404  -0.431005         0  "
      ]
     },
     "execution_count": 17,
     "metadata": {},
     "output_type": "execute_result"
    }
   ],
   "source": [
    "df.iloc[1520:1530]"
   ]
  },
  {
   "cell_type": "code",
   "execution_count": 18,
   "metadata": {},
   "outputs": [],
   "source": [
    "# Below Graph represents the count information from the bedrooms columns"
   ]
  },
  {
   "cell_type": "code",
   "execution_count": 19,
   "metadata": {},
   "outputs": [
    {
     "data": {
      "image/png": "[encoded data removed]",
      "text/plain": [
       "<Figure size 432x288 with 1 Axes>"
      ]
     },
     "metadata": {},
     "output_type": "display_data"
    }
   ],
   "source": [
    "sns.set_style( 'ticks')\n",
    "sns.countplot(x='bedrooms' ,data = df)\n",
    "sns.despine(left=True , bottom = True)"
   ]
  },
  {
   "cell_type": "code",
   "execution_count": 20,
   "metadata": {},
   "outputs": [],
   "source": [
    "# Below Graph provides count information about the property type"
   ]
  },
  {
   "cell_type": "code",
   "execution_count": 21,
   "metadata": {},
   "outputs": [
    {
     "data": {
      "text/plain": [
       "<AxesSubplot:xlabel='property_type', ylabel='count'>"
      ]
     },
     "execution_count": 21,
     "metadata": {},
     "output_type": "execute_result"
    },
    {
     "data": {
      "image/png": "[encoded data removed]",
      "text/plain": [
       "<Figure size 432x288 with 1 Axes>"
      ]
     },
     "metadata": {},
     "output_type": "display_data"
    }
   ],
   "source": [
    "sns.set_style('dark')\n",
    "sns.countplot(x='property_type' , data=df)"
   ]
  },
  {
   "cell_type": "code",
   "execution_count": 22,
   "metadata": {},
   "outputs": [],
   "source": [
    "# Below Countplot provides information between bedrooms & property type both with top 10 "
   ]
  },
  {
   "cell_type": "code",
   "execution_count": 23,
   "metadata": {},
   "outputs": [
    {
     "data": {
      "text/plain": [
       "<AxesSubplot:xlabel='count', ylabel='bedrooms'>"
      ]
     },
     "execution_count": 23,
     "metadata": {},
     "output_type": "execute_result"
    },
    {
     "data": {
      "image/png": "[encoded data removed]",
      "text/plain": [
       "<Figure size 432x288 with 1 Axes>"
      ]
     },
     "metadata": {},
     "output_type": "display_data"
    }
   ],
   "source": [
    "sns.countplot(y=\"bedrooms\", hue=\"property_type\", data=df, palette=\"YlOrRd\",\n",
    "              order=df.bedrooms.value_counts().iloc[:10].index )"
   ]
  },
  {
   "cell_type": "code",
   "execution_count": 24,
   "metadata": {},
   "outputs": [],
   "source": [
    "# Below bar pot provides the categorical graph between property type & Total floor area"
   ]
  },
  {
   "cell_type": "code",
   "execution_count": 25,
   "metadata": {},
   "outputs": [
    {
     "data": {
      "text/plain": [
       "<AxesSubplot:xlabel='property_type', ylabel='total_floor_area'>"
      ]
     },
     "execution_count": 25,
     "metadata": {},
     "output_type": "execute_result"
    },
    {
     "data": {
      "image/png": "[encoded data removed]",
      "text/plain": [
       "<Figure size 432x288 with 1 Axes>"
      ]
     },
     "metadata": {},
     "output_type": "display_data"
    }
   ],
   "source": [
    "sns.barplot(x=\"property_type\", y=\"total_floor_area\", hue=\"bedrooms\", data=df)"
   ]
  },
  {
   "cell_type": "markdown",
   "metadata": {},
   "source": [
    "# Correlations"
   ]
  },
  {
   "cell_type": "code",
   "execution_count": 26,
   "metadata": {},
   "outputs": [],
   "source": [
    "# Finding out the pairwise correlations of all columns\n",
    "# for this I implemented two methods which are 'pearson' & 'kendall'"
   ]
  },
  {
   "cell_type": "code",
   "execution_count": 27,
   "metadata": {},
   "outputs": [
    {
     "data": {
      "image/png": "[encoded data removed]",
      "text/plain": [
       "<Figure size 432x288 with 2 Axes>"
      ]
     },
     "metadata": {},
     "output_type": "display_data"
    }
   ],
   "source": [
    "correlations = df.corr(method ='pearson')\n",
    "sns.heatmap(correlations)\n",
    "plt.show()"
   ]
  },
  {
   "cell_type": "code",
   "execution_count": 28,
   "metadata": {},
   "outputs": [
    {
     "data": {
      "image/png": "[encoded data removed]",
      "text/plain": [
       "<Figure size 432x288 with 2 Axes>"
      ]
     },
     "metadata": {},
     "output_type": "display_data"
    }
   ],
   "source": [
    "correlations = df.corr(method ='kendall') \n",
    "sns.heatmap(correlations)\n",
    "plt.show()"
   ]
  },
  {
   "cell_type": "markdown",
   "metadata": {},
   "source": [
    "# Some Statistics check from the bedrooms columns"
   ]
  },
  {
   "cell_type": "code",
   "execution_count": 29,
   "metadata": {},
   "outputs": [],
   "source": [
    "bedrooms = df['bedrooms'] # created a varibale for bedrooms in dataframe\n",
    "first_quartile = np.percentile(bedrooms, 25)\n",
    "third_quartile = np.percentile(bedrooms, 75)\n",
    "inter_quartile = third_quartile - first_quartile"
   ]
  },
  {
   "cell_type": "code",
   "execution_count": 30,
   "metadata": {},
   "outputs": [
    {
     "name": "stdout",
     "output_type": "stream",
     "text": [
      " First Quartile  2.0\n",
      " Third Quartile  3.0\n",
      " Inter Quartile  1.0\n"
     ]
    }
   ],
   "source": [
    "print(\" First Quartile \",first_quartile)\n",
    "print(\" Third Quartile \",third_quartile)\n",
    "print(\" Inter Quartile \",inter_quartile)"
   ]
  },
  {
   "cell_type": "code",
   "execution_count": 31,
   "metadata": {},
   "outputs": [],
   "source": [
    "# Standard deviation is for calculating the given set of numbers in the dataframe"
   ]
  },
  {
   "cell_type": "code",
   "execution_count": 32,
   "metadata": {},
   "outputs": [
    {
     "name": "stdout",
     "output_type": "stream",
     "text": [
      "Standard Deviation 0.9785283551791838\n"
     ]
    }
   ],
   "source": [
    "std_bedrooms = np.std(bedrooms)\n",
    "print(\"Standard Deviation\",std_bedrooms)"
   ]
  },
  {
   "cell_type": "code",
   "execution_count": 33,
   "metadata": {},
   "outputs": [
    {
     "data": {
      "text/html": [
       "<div>\n",
       "<style scoped>\n",
       "    .dataframe tbody tr th:only-of-type {\n",
       "        vertical-align: middle;\n",
       "    }\n",
       "\n",
       "    .dataframe tbody tr th {\n",
       "        vertical-align: top;\n",
       "    }\n",
       "\n",
       "    .dataframe thead th {\n",
       "        text-align: right;\n",
       "    }\n",
       "</style>\n",
       "<table border=\"1\" class=\"dataframe\">\n",
       "  <thead>\n",
       "    <tr style=\"text-align: right;\">\n",
       "      <th></th>\n",
       "      <th>property_type</th>\n",
       "      <th>total_floor_area</th>\n",
       "      <th>number_habitable_rooms</th>\n",
       "      <th>number_heated_rooms</th>\n",
       "      <th>estimated_min_price</th>\n",
       "      <th>estimated_max_price</th>\n",
       "      <th>latitude</th>\n",
       "      <th>longitude</th>\n",
       "      <th>bedrooms</th>\n",
       "    </tr>\n",
       "  </thead>\n",
       "  <tbody>\n",
       "    <tr>\n",
       "      <th>0</th>\n",
       "      <td>Flats/Maisonettes</td>\n",
       "      <td>39.00</td>\n",
       "      <td>1</td>\n",
       "      <td>1</td>\n",
       "      <td>103000</td>\n",
       "      <td>126000</td>\n",
       "      <td>52.164661</td>\n",
       "      <td>-1.856154</td>\n",
       "      <td>0</td>\n",
       "    </tr>\n",
       "    <tr>\n",
       "      <th>1</th>\n",
       "      <td>Flats/Maisonettes</td>\n",
       "      <td>24.00</td>\n",
       "      <td>1</td>\n",
       "      <td>1</td>\n",
       "      <td>36000</td>\n",
       "      <td>44000</td>\n",
       "      <td>52.523281</td>\n",
       "      <td>-2.054445</td>\n",
       "      <td>0</td>\n",
       "    </tr>\n",
       "    <tr>\n",
       "      <th>2</th>\n",
       "      <td>Flats/Maisonettes</td>\n",
       "      <td>25.00</td>\n",
       "      <td>1</td>\n",
       "      <td>1</td>\n",
       "      <td>187000</td>\n",
       "      <td>229000</td>\n",
       "      <td>51.386343</td>\n",
       "      <td>-0.108323</td>\n",
       "      <td>0</td>\n",
       "    </tr>\n",
       "    <tr>\n",
       "      <th>3</th>\n",
       "      <td>Flats/Maisonettes</td>\n",
       "      <td>27.00</td>\n",
       "      <td>1</td>\n",
       "      <td>1</td>\n",
       "      <td>234000</td>\n",
       "      <td>350000</td>\n",
       "      <td>51.416946</td>\n",
       "      <td>-0.151787</td>\n",
       "      <td>2</td>\n",
       "    </tr>\n",
       "    <tr>\n",
       "      <th>4</th>\n",
       "      <td>Flats/Maisonettes</td>\n",
       "      <td>29.00</td>\n",
       "      <td>1</td>\n",
       "      <td>1</td>\n",
       "      <td>185000</td>\n",
       "      <td>277000</td>\n",
       "      <td>52.915728</td>\n",
       "      <td>-1.475258</td>\n",
       "      <td>1</td>\n",
       "    </tr>\n",
       "    <tr>\n",
       "      <th>...</th>\n",
       "      <td>...</td>\n",
       "      <td>...</td>\n",
       "      <td>...</td>\n",
       "      <td>...</td>\n",
       "      <td>...</td>\n",
       "      <td>...</td>\n",
       "      <td>...</td>\n",
       "      <td>...</td>\n",
       "      <td>...</td>\n",
       "    </tr>\n",
       "    <tr>\n",
       "      <th>999995</th>\n",
       "      <td>Detached</td>\n",
       "      <td>241.00</td>\n",
       "      <td>10</td>\n",
       "      <td>10</td>\n",
       "      <td>1480000</td>\n",
       "      <td>1800000</td>\n",
       "      <td>51.329410</td>\n",
       "      <td>-0.362611</td>\n",
       "      <td>3</td>\n",
       "    </tr>\n",
       "    <tr>\n",
       "      <th>999996</th>\n",
       "      <td>Detached</td>\n",
       "      <td>286.00</td>\n",
       "      <td>10</td>\n",
       "      <td>10</td>\n",
       "      <td>1630000</td>\n",
       "      <td>1800000</td>\n",
       "      <td>51.380529</td>\n",
       "      <td>-0.430064</td>\n",
       "      <td>5</td>\n",
       "    </tr>\n",
       "    <tr>\n",
       "      <th>999997</th>\n",
       "      <td>Semi-Detached</td>\n",
       "      <td>250.00</td>\n",
       "      <td>10</td>\n",
       "      <td>10</td>\n",
       "      <td>1240000</td>\n",
       "      <td>1510000</td>\n",
       "      <td>51.309676</td>\n",
       "      <td>-0.306065</td>\n",
       "      <td>4</td>\n",
       "    </tr>\n",
       "    <tr>\n",
       "      <th>999998</th>\n",
       "      <td>Semi-Detached</td>\n",
       "      <td>218.00</td>\n",
       "      <td>10</td>\n",
       "      <td>10</td>\n",
       "      <td>454000</td>\n",
       "      <td>682000</td>\n",
       "      <td>54.160256</td>\n",
       "      <td>-0.778915</td>\n",
       "      <td>4</td>\n",
       "    </tr>\n",
       "    <tr>\n",
       "      <th>999999</th>\n",
       "      <td>Detached</td>\n",
       "      <td>373.04</td>\n",
       "      <td>10</td>\n",
       "      <td>10</td>\n",
       "      <td>1400000</td>\n",
       "      <td>2100000</td>\n",
       "      <td>54.062335</td>\n",
       "      <td>-1.324595</td>\n",
       "      <td>5</td>\n",
       "    </tr>\n",
       "  </tbody>\n",
       "</table>\n",
       "<p>1000000 rows × 9 columns</p>\n",
       "</div>"
      ],
      "text/plain": [
       "            property_type  total_floor_area  number_habitable_rooms  \\\n",
       "0       Flats/Maisonettes             39.00                       1   \n",
       "1       Flats/Maisonettes             24.00                       1   \n",
       "2       Flats/Maisonettes             25.00                       1   \n",
       "3       Flats/Maisonettes             27.00                       1   \n",
       "4       Flats/Maisonettes             29.00                       1   \n",
       "...                   ...               ...                     ...   \n",
       "999995           Detached            241.00                      10   \n",
       "999996           Detached            286.00                      10   \n",
       "999997      Semi-Detached            250.00                      10   \n",
       "999998      Semi-Detached            218.00                      10   \n",
       "999999           Detached            373.04                      10   \n",
       "\n",
       "        number_heated_rooms  estimated_min_price  estimated_max_price  \\\n",
       "0                         1               103000               126000   \n",
       "1                         1                36000                44000   \n",
       "2                         1               187000               229000   \n",
       "3                         1               234000               350000   \n",
       "4                         1               185000               277000   \n",
       "...                     ...                  ...                  ...   \n",
       "999995                   10              1480000              1800000   \n",
       "999996                   10              1630000              1800000   \n",
       "999997                   10              1240000              1510000   \n",
       "999998                   10               454000               682000   \n",
       "999999                   10              1400000              2100000   \n",
       "\n",
       "         latitude  longitude  bedrooms  \n",
       "0       52.164661  -1.856154         0  \n",
       "1       52.523281  -2.054445         0  \n",
       "2       51.386343  -0.108323         0  \n",
       "3       51.416946  -0.151787         2  \n",
       "4       52.915728  -1.475258         1  \n",
       "...           ...        ...       ...  \n",
       "999995  51.329410  -0.362611         3  \n",
       "999996  51.380529  -0.430064         5  \n",
       "999997  51.309676  -0.306065         4  \n",
       "999998  54.160256  -0.778915         4  \n",
       "999999  54.062335  -1.324595         5  \n",
       "\n",
       "[1000000 rows x 9 columns]"
      ]
     },
     "execution_count": 33,
     "metadata": {},
     "output_type": "execute_result"
    }
   ],
   "source": [
    "df"
   ]
  },
  {
   "cell_type": "code",
   "execution_count": null,
   "metadata": {},
   "outputs": [],
   "source": []
  },
  {
   "cell_type": "markdown",
   "metadata": {},
   "source": [
    "#### By checking the Correlations heatmaps, I identified from the dataframe that we cant use the latitude , longitude and property type to calculate the bedrooms, on basis of that i drop these 3 columns and rest of the columns i kept in the features variable."
   ]
  },
  {
   "cell_type": "code",
   "execution_count": 34,
   "metadata": {},
   "outputs": [],
   "source": [
    "df.pop('latitude')\n",
    "df.pop('longitude')\n",
    "df.pop('property_type')\n",
    "bedrooms = df.pop('bedrooms')\n",
    "features = df"
   ]
  },
  {
   "cell_type": "markdown",
   "metadata": {},
   "source": [
    "### Visuallizied the Scatter plot technique to find out the relationship beween numerical variables"
   ]
  },
  {
   "cell_type": "code",
   "execution_count": 35,
   "metadata": {},
   "outputs": [
    {
     "data": {
      "image/png": "[encoded data removed]",
      "text/plain": [
       "<Figure size 1440x360 with 1 Axes>"
      ]
     },
     "metadata": {},
     "output_type": "display_data"
    },
    {
     "data": {
      "image/png": "[encoded data removed]",
      "text/plain": [
       "<Figure size 432x288 with 1 Axes>"
      ]
     },
     "metadata": {},
     "output_type": "display_data"
    },
    {
     "data": {
      "image/png": "[encoded data removed]",
      "text/plain": [
       "<Figure size 432x288 with 1 Axes>"
      ]
     },
     "metadata": {},
     "output_type": "display_data"
    },
    {
     "data": {
      "image/png": "[encoded data removed]",
      "text/plain": [
       "<Figure size 432x288 with 1 Axes>"
      ]
     },
     "metadata": {},
     "output_type": "display_data"
    }
   ],
   "source": [
    "plt.figure(figsize=(20, 5))\n",
    "for column in df.columns[:-1]:\n",
    "    plt.scatter(df[column],bedrooms)\n",
    "    plt.xlabel(column)\n",
    "    plt.ylabel(\"bedrooms\")\n",
    "    plt.show()"
   ]
  },
  {
   "cell_type": "markdown",
   "metadata": {},
   "source": [
    "# Split Train and Test using Sklearn Model"
   ]
  },
  {
   "cell_type": "markdown",
   "metadata": {},
   "source": [
    "#####  Train_test_split function splits the data arrays into two subsets for training data and testing data.\n",
    "\n",
    "###### In this scenario i split the dataset Training (80) & Testing (20)"
   ]
  },
  {
   "cell_type": "code",
   "execution_count": 36,
   "metadata": {},
   "outputs": [
    {
     "name": "stdout",
     "output_type": "stream",
     "text": [
      "Training and testing split was successful.\n"
     ]
    }
   ],
   "source": [
    "from sklearn.model_selection import train_test_split\n",
    "from sklearn.model_selection import ShuffleSplit, train_test_split\n",
    " \n",
    "X_train, X_test, y_train, y_test = train_test_split(features, bedrooms, test_size=0.2, random_state=10)\n",
    "print(\"Training and testing split was successful.\")"
   ]
  },
  {
   "cell_type": "markdown",
   "metadata": {},
   "source": [
    "# Algorithm \n",
    "### Decision Tree Regressor ?\n",
    "###### For high non linearity & Complex relationship between dependent & Independent variables a tree model will performs and outcomes a classical regression method. so i used the decision tree regressor here."
   ]
  },
  {
   "cell_type": "markdown",
   "metadata": {},
   "source": [
    "# Learning curve plots \n",
    "### Learning curves plots that shows changes in learning performance over time in terms of experience.\n",
    "### Learning curves of model performance on th train and validation can be used to calculate the underfit , overfit"
   ]
  },
  {
   "cell_type": "code",
   "execution_count": 37,
   "metadata": {},
   "outputs": [
    {
     "data": {
      "image/png": "[encoded data removed]",
      "text/plain": [
       "<Figure size 720x1080 with 6 Axes>"
      ]
     },
     "metadata": {},
     "output_type": "display_data"
    }
   ],
   "source": [
    "from sklearn.tree import DecisionTreeRegressor\n",
    "from sklearn.model_selection import learning_curve\n",
    "from sklearn.model_selection import ShuffleSplit\n",
    "\n",
    "\n",
    "def plot_learning_curve(\n",
    "    estimator,\n",
    "    title,\n",
    "    X,\n",
    "    y,\n",
    "    axes=None,\n",
    "    ylim=None,\n",
    "    cv=None,\n",
    "    n_jobs=None,\n",
    "    train_sizes=np.linspace(0.1, 1.0, 5),\n",
    "):\n",
    "    \n",
    "    if axes is None:\n",
    "        _, axes = plt.subplots(1, 3, figsize=(20, 5))\n",
    "\n",
    "    axes[0].set_title(title)\n",
    "    if ylim is not None:\n",
    "        axes[0].set_ylim(*ylim)\n",
    "    axes[0].set_xlabel(\"Training examples\")\n",
    "    axes[0].set_ylabel(\"Score\")\n",
    "\n",
    "    train_sizes, train_scores, test_scores, fit_times, _ = learning_curve(\n",
    "        estimator,\n",
    "        X,\n",
    "        y,\n",
    "        cv=cv,\n",
    "        n_jobs=n_jobs,\n",
    "        train_sizes=train_sizes,\n",
    "        return_times=True,\n",
    "    )\n",
    "    train_scores_mean = np.mean(train_scores, axis=1)\n",
    "    train_scores_std = np.std(train_scores, axis=1)\n",
    "    test_scores_mean = np.mean(test_scores, axis=1)\n",
    "    test_scores_std = np.std(test_scores, axis=1)\n",
    "    fit_times_mean = np.mean(fit_times, axis=1)\n",
    "    fit_times_std = np.std(fit_times, axis=1)\n",
    "\n",
    "    # Plot learning curve\n",
    "    axes[0].grid()\n",
    "    axes[0].fill_between(\n",
    "        train_sizes,\n",
    "        train_scores_mean - train_scores_std,\n",
    "        train_scores_mean + train_scores_std,\n",
    "        alpha=0.1,\n",
    "        color=\"r\",\n",
    "    )\n",
    "    axes[0].fill_between(\n",
    "        train_sizes,\n",
    "        test_scores_mean - test_scores_std,\n",
    "        test_scores_mean + test_scores_std,\n",
    "        alpha=0.1,\n",
    "        color=\"g\",\n",
    "    )\n",
    "    axes[0].plot(\n",
    "        train_sizes, train_scores_mean, \"o-\", color=\"r\", label=\"Training score\"\n",
    "    )\n",
    "    axes[0].plot(\n",
    "        train_sizes, test_scores_mean, \"o-\", color=\"g\", label=\"Cross-validation score\"\n",
    "    )\n",
    "    axes[0].legend(loc=\"best\")\n",
    "\n",
    "    # Plot n_samples vs fit_times\n",
    "    axes[1].grid()\n",
    "    axes[1].plot(train_sizes, fit_times_mean, \"o-\")\n",
    "    axes[1].fill_between(\n",
    "        train_sizes,\n",
    "        fit_times_mean - fit_times_std,\n",
    "        fit_times_mean + fit_times_std,\n",
    "        alpha=0.1,\n",
    "    )\n",
    "    axes[1].set_xlabel(\"Training examples\")\n",
    "    axes[1].set_ylabel(\"fit_times\")\n",
    "    axes[1].set_title(\"Scalability of the model\")\n",
    "\n",
    "    # Plot fit_time vs score\n",
    "    axes[2].grid()\n",
    "    axes[2].plot(fit_times_mean, test_scores_mean, \"o-\")\n",
    "    axes[2].fill_between(\n",
    "        fit_times_mean,\n",
    "        test_scores_mean - test_scores_std,\n",
    "        test_scores_mean + test_scores_std,\n",
    "        alpha=0.1,\n",
    "    )\n",
    "    axes[2].set_xlabel(\"fit_times\")\n",
    "    axes[2].set_ylabel(\"Score\")\n",
    "    axes[2].set_title(\"Performance of the model\")\n",
    "\n",
    "    return plt\n",
    "\n",
    "\n",
    "fig, axes = plt.subplots(3, 2, figsize=(10, 15))\n",
    "\n",
    "X, y = features , bedrooms\n",
    "\n",
    "title = \"Learning Curves (Decision Tree Regressor)\"\n",
    "# Cross validation with 100 iterations to get smoother mean test and train\n",
    "# score curves, each time with 20% data randomly selected as a validation set.\n",
    "cv = ShuffleSplit(n_splits=100, test_size=0.2, random_state=0)\n",
    "\n",
    "estimator = DecisionTreeRegressor()\n",
    "plot_learning_curve(\n",
    "    estimator, title, X_train, y_train, axes=axes[:, 0], ylim=(0.7, 1.01), cv=cv, n_jobs=4\n",
    ")\n",
    "\n",
    "plt.show()"
   ]
  },
  {
   "cell_type": "markdown",
   "metadata": {},
   "source": [
    "###### From the above plots we can clearly see that performance of the model is continuous regression which means we can predict a continuous dependednt variable from a number of independent variables"
   ]
  },
  {
   "cell_type": "markdown",
   "metadata": {},
   "source": [
    "#### Metrics\n",
    "###### R2 R-squared is a good-fit measure for linear regression models"
   ]
  },
  {
   "cell_type": "code",
   "execution_count": 38,
   "metadata": {},
   "outputs": [],
   "source": [
    "from sklearn.metrics import r2_score\n",
    "\n",
    "def performance_metric(y_true, y_predict):\n",
    "    \"\"\" Calculates and returns the performance score between \n",
    "        true and predicted values based on the metric chosen. \"\"\"\n",
    "\n",
    "    # TODO: Calculate the performance score between 'y_true' and 'y_predict'\n",
    "    score = r2_score(y_true, y_predict)\n",
    "\n",
    "    # Return the score\n",
    "    return score"
   ]
  },
  {
   "cell_type": "markdown",
   "metadata": {},
   "source": [
    "# Technique 1 : GridSearchCV"
   ]
  },
  {
   "cell_type": "markdown",
   "metadata": {},
   "source": [
    "#### GridSearchCV  refers to a technique to identify the optimal hyperparameters for our decisiontreeregressor model in training data "
   ]
  },
  {
   "cell_type": "code",
   "execution_count": 39,
   "metadata": {},
   "outputs": [],
   "source": [
    "from sklearn.metrics import make_scorer\n",
    "from sklearn.tree import DecisionTreeRegressor\n",
    "from sklearn.model_selection import GridSearchCV\n",
    "\n",
    "def fit_model(X, y):\n",
    "    \"\"\" Performs grid search over the 'max_depth' parameter for a \n",
    "        decision tree regressor trained on the input data [X, y]. \"\"\"\n",
    "\n",
    "    # Create cross-validation sets from the training data\n",
    "    # ShuffleSplit works iteratively compared to KFOLD\n",
    "    # It saves computation time when your dataset grows\n",
    "    # X.shape[0] is the total number of elements\n",
    "    # n_iter is the number of re-shuffling & splitting iterations.\n",
    "    cv_sets = ShuffleSplit(n_splits=100, test_size=0.2, random_state=0)     \n",
    "    # TODO: Create a decision tree regressor object\n",
    "    # Instantiate\n",
    "    regressor = DecisionTreeRegressor(random_state=0)\n",
    "\n",
    "    # TODO: Create a dictionary for the parameter 'max_depth' with a range from 1 to 10\n",
    "    dt_range = range(1, 11)\n",
    "    params = dict(max_depth=dt_range)\n",
    "\n",
    "    # TODO: Transform 'performance_metric' into a scoring function using 'make_scorer' \n",
    "    # We initially created performance_metric using R2_score\n",
    "    scoring_fnc = make_scorer(performance_metric)\n",
    "\n",
    "    # TODO: Create the grid search object\n",
    "    grid = GridSearchCV(regressor, params, cv=cv_sets, scoring=scoring_fnc)\n",
    "\n",
    "    # Fit the grid search object to the data to compute the optimal model\n",
    "    grid = grid.fit(X, y)\n",
    "\n",
    "    # Return the optimal model after fitting the data\n",
    "    return grid.best_estimator_"
   ]
  },
  {
   "cell_type": "code",
   "execution_count": 40,
   "metadata": {},
   "outputs": [],
   "source": [
    "reg = fit_model(features, bedrooms)"
   ]
  },
  {
   "cell_type": "markdown",
   "metadata": {},
   "source": [
    "##### Providng the Grid Search CV Parameters, if we observe in splitter it clearly mentions our model is 'Best' and we can provide max_depth of the decision tree regressor upto 8"
   ]
  },
  {
   "cell_type": "code",
   "execution_count": 41,
   "metadata": {},
   "outputs": [
    {
     "data": {
      "text/plain": [
       "{'ccp_alpha': 0.0,\n",
       " 'criterion': 'mse',\n",
       " 'max_depth': 8,\n",
       " 'max_features': None,\n",
       " 'max_leaf_nodes': None,\n",
       " 'min_impurity_decrease': 0.0,\n",
       " 'min_impurity_split': None,\n",
       " 'min_samples_leaf': 1,\n",
       " 'min_samples_split': 2,\n",
       " 'min_weight_fraction_leaf': 0.0,\n",
       " 'random_state': 0,\n",
       " 'splitter': 'best'}"
      ]
     },
     "execution_count": 41,
     "metadata": {},
     "output_type": "execute_result"
    }
   ],
   "source": [
    " reg.get_params()"
   ]
  },
  {
   "cell_type": "markdown",
   "metadata": {},
   "source": [
    "# Technique 2 : RandomizedSearchCV"
   ]
  },
  {
   "cell_type": "markdown",
   "metadata": {},
   "source": [
    "#### Both Randomized Search CV & Grid Search Cv approaches is same to define the combinations and do training of the model where as in this randomized search cv the model selects the combinations randomly."
   ]
  },
  {
   "cell_type": "code",
   "execution_count": 42,
   "metadata": {},
   "outputs": [],
   "source": [
    "from sklearn.model_selection import RandomizedSearchCV\n",
    "\n",
    "# Create new similar function\n",
    "def fit_model_2(X, y):\n",
    "    \"\"\" Performs grid search over the 'max_depth' parameter for a \n",
    "        decision tree regressor trained on the input data [X, y]. \"\"\"\n",
    "\n",
    "    # Create cross-validation sets from the training data\n",
    "    # ShuffleSplit works iteratively compared to KFOLD\n",
    "    # It saves computation time when your dataset grows\n",
    "    # X.shape[0] is the total number of elements\n",
    "    # n_iter is the number of re-shuffling & splitting iterations.\n",
    "    cv_sets = ShuffleSplit(n_splits=100, test_size=0.2, random_state=0)\n",
    "\n",
    "    # TODO: Create a decision tree regressor object\n",
    "    # Instantiate\n",
    "    regressor = DecisionTreeRegressor(random_state=0)\n",
    "\n",
    "    # TODO: Create a dictionary for the parameter 'max_depth' with a range from 1 to 10\n",
    "    dt_range = range(1, 11)\n",
    "    params = dict(max_depth=dt_range)\n",
    "\n",
    "    # TODO: Transform 'performance_metric' into a scoring function using 'make_scorer' \n",
    "    # We initially created performance_metric using R2_score\n",
    "    scoring_fnc = make_scorer(performance_metric)\n",
    "\n",
    "    # TODO: Create the grid search object\n",
    "    rand = RandomizedSearchCV(regressor, params, cv=cv_sets, scoring=scoring_fnc)\n",
    "\n",
    "    # Fit the grid search object to the data to compute the optimal model\n",
    "    rand = rand.fit(X, y)\n",
    "\n",
    "    # Return the optimal model after fitting the data\n",
    "    return rand.best_estimator_"
   ]
  },
  {
   "cell_type": "code",
   "execution_count": 43,
   "metadata": {},
   "outputs": [],
   "source": [
    "reg_2 = fit_model_2(X_train, y_train)"
   ]
  },
  {
   "cell_type": "markdown",
   "metadata": {},
   "source": [
    "#### Providng the Randomized Search CV Parameters, if we observe in splitter it clearly mentions our model is 'Best' and we can provide max_depth of the decision tree regressor upto 8. so both provide the best parameters with this algoritham"
   ]
  },
  {
   "cell_type": "code",
   "execution_count": 44,
   "metadata": {},
   "outputs": [
    {
     "data": {
      "text/plain": [
       "{'ccp_alpha': 0.0,\n",
       " 'criterion': 'mse',\n",
       " 'max_depth': 8,\n",
       " 'max_features': None,\n",
       " 'max_leaf_nodes': None,\n",
       " 'min_impurity_decrease': 0.0,\n",
       " 'min_impurity_split': None,\n",
       " 'min_samples_leaf': 1,\n",
       " 'min_samples_split': 2,\n",
       " 'min_weight_fraction_leaf': 0.0,\n",
       " 'random_state': 0,\n",
       " 'splitter': 'best'}"
      ]
     },
     "execution_count": 44,
     "metadata": {},
     "output_type": "execute_result"
    }
   ],
   "source": [
    "reg_2.get_params()"
   ]
  },
  {
   "cell_type": "markdown",
   "metadata": {},
   "source": [
    "# SAVING MODELS"
   ]
  },
  {
   "cell_type": "code",
   "execution_count": 45,
   "metadata": {},
   "outputs": [],
   "source": [
    "from sklearn import model_selection\n",
    "import pickle"
   ]
  },
  {
   "cell_type": "code",
   "execution_count": 46,
   "metadata": {},
   "outputs": [],
   "source": [
    "filename_GSCV = 'DecisionTreeRegressor_GridSearchCV.sav'\n",
    "pickle.dump(reg, open(filename_GSCV, 'wb'))  # pickle (Serialising the model)"
   ]
  },
  {
   "cell_type": "code",
   "execution_count": 47,
   "metadata": {},
   "outputs": [],
   "source": [
    "filename_RSCV = 'DecisionTreeRegressor_RandomizedSearchCV.sav'\n",
    "pickle.dump(reg, open(filename_RSCV, 'wb'))"
   ]
  },
  {
   "cell_type": "markdown",
   "metadata": {},
   "source": [
    "# Predictions"
   ]
  },
  {
   "cell_type": "code",
   "execution_count": 48,
   "metadata": {},
   "outputs": [
    {
     "data": {
      "text/html": [
       "<div>\n",
       "<style scoped>\n",
       "    .dataframe tbody tr th:only-of-type {\n",
       "        vertical-align: middle;\n",
       "    }\n",
       "\n",
       "    .dataframe tbody tr th {\n",
       "        vertical-align: top;\n",
       "    }\n",
       "\n",
       "    .dataframe thead th {\n",
       "        text-align: right;\n",
       "    }\n",
       "</style>\n",
       "<table border=\"1\" class=\"dataframe\">\n",
       "  <thead>\n",
       "    <tr style=\"text-align: right;\">\n",
       "      <th></th>\n",
       "      <th>total_floor_area</th>\n",
       "      <th>number_habitable_rooms</th>\n",
       "      <th>number_heated_rooms</th>\n",
       "      <th>estimated_min_price</th>\n",
       "      <th>estimated_max_price</th>\n",
       "    </tr>\n",
       "  </thead>\n",
       "  <tbody>\n",
       "    <tr>\n",
       "      <th>0</th>\n",
       "      <td>39.0</td>\n",
       "      <td>1</td>\n",
       "      <td>1</td>\n",
       "      <td>103000</td>\n",
       "      <td>126000</td>\n",
       "    </tr>\n",
       "    <tr>\n",
       "      <th>1</th>\n",
       "      <td>24.0</td>\n",
       "      <td>1</td>\n",
       "      <td>1</td>\n",
       "      <td>36000</td>\n",
       "      <td>44000</td>\n",
       "    </tr>\n",
       "    <tr>\n",
       "      <th>2</th>\n",
       "      <td>25.0</td>\n",
       "      <td>1</td>\n",
       "      <td>1</td>\n",
       "      <td>187000</td>\n",
       "      <td>229000</td>\n",
       "    </tr>\n",
       "    <tr>\n",
       "      <th>3</th>\n",
       "      <td>27.0</td>\n",
       "      <td>1</td>\n",
       "      <td>1</td>\n",
       "      <td>234000</td>\n",
       "      <td>350000</td>\n",
       "    </tr>\n",
       "    <tr>\n",
       "      <th>4</th>\n",
       "      <td>29.0</td>\n",
       "      <td>1</td>\n",
       "      <td>1</td>\n",
       "      <td>185000</td>\n",
       "      <td>277000</td>\n",
       "    </tr>\n",
       "  </tbody>\n",
       "</table>\n",
       "</div>"
      ],
      "text/plain": [
       "   total_floor_area  number_habitable_rooms  number_heated_rooms  \\\n",
       "0              39.0                       1                    1   \n",
       "1              24.0                       1                    1   \n",
       "2              25.0                       1                    1   \n",
       "3              27.0                       1                    1   \n",
       "4              29.0                       1                    1   \n",
       "\n",
       "   estimated_min_price  estimated_max_price  \n",
       "0               103000               126000  \n",
       "1                36000                44000  \n",
       "2               187000               229000  \n",
       "3               234000               350000  \n",
       "4               185000               277000  "
      ]
     },
     "execution_count": 48,
     "metadata": {},
     "output_type": "execute_result"
    }
   ],
   "source": [
    "features.head(5)"
   ]
  },
  {
   "cell_type": "code",
   "execution_count": 49,
   "metadata": {},
   "outputs": [
    {
     "data": {
      "text/plain": [
       "0    0\n",
       "1    0\n",
       "2    0\n",
       "3    2\n",
       "4    1\n",
       "Name: bedrooms, dtype: int64"
      ]
     },
     "execution_count": 49,
     "metadata": {},
     "output_type": "execute_result"
    }
   ],
   "source": [
    "bedrooms.head(5)"
   ]
  },
  {
   "cell_type": "markdown",
   "metadata": {},
   "source": [
    "### PREDICTION RESULTS with Grid Search CV Technique and the results are pretty good"
   ]
  },
  {
   "cell_type": "code",
   "execution_count": 50,
   "metadata": {},
   "outputs": [
    {
     "name": "stdout",
     "output_type": "stream",
     "text": [
      "Predicted Number of Bedrooms for Client 1's home: 0  \n",
      "Predicted Number of Bedrooms for Client 2's home: 5  \n",
      "Predicted Number of Bedrooms for Client 3's home: 0  \n",
      "Predicted Number of Bedrooms for Client 4's home: 6  \n",
      "Predicted Number of Bedrooms for Client 5's home: 0  \n",
      "Predicted Number of Bedrooms for Client 6's home: 0  \n"
     ]
    }
   ],
   "source": [
    "test_data = [[39.00, 1, 1,103000,126000],\n",
    "            [373,10,10,1400000,2100000] , \n",
    "             [34.00,1,1,130000,144000] , \n",
    "             [451.60,13,13,1000000,1500000] , \n",
    "             [17.00,1,1,338000,373000],\n",
    "            [27.0,1,1,234000,350000]]  \n",
    "\n",
    "# Show predictions\n",
    "for i, pred_bedrooms in enumerate(reg.predict(test_data)):\n",
    "    print(\"Predicted Number of Bedrooms for Client {}'s home: {}  \".format(i+1, int(pred_bedrooms)))"
   ]
  },
  {
   "cell_type": "markdown",
   "metadata": {},
   "source": [
    "### PREDICTION RESULTS with Randomized Search CV Technique and the results are pretty good"
   ]
  },
  {
   "cell_type": "code",
   "execution_count": 51,
   "metadata": {},
   "outputs": [
    {
     "name": "stdout",
     "output_type": "stream",
     "text": [
      "Predicted Number of Bedrooms for Client 1's home: 0  \n",
      "Predicted Number of Bedrooms for Client 2's home: 5  \n",
      "Predicted Number of Bedrooms for Client 3's home: 0  \n",
      "Predicted Number of Bedrooms for Client 4's home: 6  \n",
      "Predicted Number of Bedrooms for Client 5's home: 0  \n",
      "Predicted Number of Bedrooms for Client 6's home: 0  \n"
     ]
    }
   ],
   "source": [
    "test_data = [[39.00, 1, 1,103000,126000],\n",
    "            [373,10,10,1400000,2100000] , \n",
    "             [34.00,1,1,130000,144000] , \n",
    "             [451.60,13,13,1000000,1500000] , \n",
    "             [17.00,1,1,338000,373000],\n",
    "            [27.0,1,1,234000,350000]]  \n",
    "\n",
    "# Show predictions\n",
    "for i, pred_bedrooms in enumerate(reg_2.predict(test_data)):\n",
    "    print(\"Predicted Number of Bedrooms for Client {}'s home: {}  \".format(i+1, int(pred_bedrooms)))"
   ]
  },
  {
   "cell_type": "markdown",
   "metadata": {},
   "source": [
    "# Will check with few more regressions model Algorithams "
   ]
  },
  {
   "cell_type": "code",
   "execution_count": 52,
   "metadata": {},
   "outputs": [],
   "source": [
    "from sklearn import metrics\n",
    "from sklearn.model_selection import cross_val_score\n",
    "\n",
    "def cross_val(model):\n",
    "    pred = cross_val_score(model, X, y, cv=10)\n",
    "    return pred.mean()\n",
    "\n",
    "def print_evaluate(true, predicted):  \n",
    "    mae = metrics.mean_absolute_error(true, predicted)\n",
    "    mse = metrics.mean_squared_error(true, predicted)\n",
    "    rmse = np.sqrt(metrics.mean_squared_error(true, predicted))\n",
    "    r2_square = metrics.r2_score(true, predicted)\n",
    "    print('MAE:', mae)\n",
    "    print('MSE:', mse)\n",
    "    print('RMSE:', rmse)\n",
    "    print('R2 Square', r2_square)\n",
    "    print('__________________________________')\n",
    "    \n",
    "def evaluate(true, predicted):\n",
    "    mae = metrics.mean_absolute_error(true, predicted)\n",
    "    mse = metrics.mean_squared_error(true, predicted)\n",
    "    rmse = np.sqrt(metrics.mean_squared_error(true, predicted))\n",
    "    r2_square = metrics.r2_score(true, predicted)\n",
    "    return mae, mse, rmse, r2_square"
   ]
  },
  {
   "cell_type": "code",
   "execution_count": 53,
   "metadata": {},
   "outputs": [],
   "source": [
    "from sklearn.preprocessing import StandardScaler\n",
    "from sklearn.pipeline import Pipeline\n",
    "\n",
    "pipeline = Pipeline([\n",
    "    ('std_scalar', StandardScaler())\n",
    "])\n",
    "\n",
    "X_train = pipeline.fit_transform(X_train)\n",
    "X_test = pipeline.transform(X_test)"
   ]
  },
  {
   "cell_type": "markdown",
   "metadata": {},
   "source": [
    "# Linear Regression Model"
   ]
  },
  {
   "cell_type": "code",
   "execution_count": 54,
   "metadata": {},
   "outputs": [
    {
     "data": {
      "text/plain": [
       "LinearRegression(normalize=True)"
      ]
     },
     "execution_count": 54,
     "metadata": {},
     "output_type": "execute_result"
    }
   ],
   "source": [
    "from sklearn.linear_model import LinearRegression\n",
    "\n",
    "lin_reg = LinearRegression(normalize=True)\n",
    "lin_reg.fit(X_train,y_train)"
   ]
  },
  {
   "cell_type": "code",
   "execution_count": 55,
   "metadata": {},
   "outputs": [
    {
     "name": "stdout",
     "output_type": "stream",
     "text": [
      "2.86953625\n"
     ]
    }
   ],
   "source": [
    "print(lin_reg.intercept_)"
   ]
  },
  {
   "cell_type": "code",
   "execution_count": 56,
   "metadata": {},
   "outputs": [
    {
     "data": {
      "text/html": [
       "<div>\n",
       "<style scoped>\n",
       "    .dataframe tbody tr th:only-of-type {\n",
       "        vertical-align: middle;\n",
       "    }\n",
       "\n",
       "    .dataframe tbody tr th {\n",
       "        vertical-align: top;\n",
       "    }\n",
       "\n",
       "    .dataframe thead th {\n",
       "        text-align: right;\n",
       "    }\n",
       "</style>\n",
       "<table border=\"1\" class=\"dataframe\">\n",
       "  <thead>\n",
       "    <tr style=\"text-align: right;\">\n",
       "      <th></th>\n",
       "      <th>Coefficient</th>\n",
       "    </tr>\n",
       "  </thead>\n",
       "  <tbody>\n",
       "    <tr>\n",
       "      <th>total_floor_area</th>\n",
       "      <td>0.043677</td>\n",
       "    </tr>\n",
       "    <tr>\n",
       "      <th>number_habitable_rooms</th>\n",
       "      <td>0.493434</td>\n",
       "    </tr>\n",
       "    <tr>\n",
       "      <th>number_heated_rooms</th>\n",
       "      <td>0.241658</td>\n",
       "    </tr>\n",
       "    <tr>\n",
       "      <th>estimated_min_price</th>\n",
       "      <td>0.372038</td>\n",
       "    </tr>\n",
       "    <tr>\n",
       "      <th>estimated_max_price</th>\n",
       "      <td>-0.292636</td>\n",
       "    </tr>\n",
       "  </tbody>\n",
       "</table>\n",
       "</div>"
      ],
      "text/plain": [
       "                        Coefficient\n",
       "total_floor_area           0.043677\n",
       "number_habitable_rooms     0.493434\n",
       "number_heated_rooms        0.241658\n",
       "estimated_min_price        0.372038\n",
       "estimated_max_price       -0.292636"
      ]
     },
     "execution_count": 56,
     "metadata": {},
     "output_type": "execute_result"
    }
   ],
   "source": [
    "coeff_df = pd.DataFrame(lin_reg.coef_, X.columns, columns=['Coefficient'])\n",
    "coeff_df"
   ]
  },
  {
   "cell_type": "code",
   "execution_count": 57,
   "metadata": {},
   "outputs": [
    {
     "data": {
      "text/plain": [
       "array([2.95210118, 2.96349856, 2.05474075, ..., 3.00729946, 4.2512991 ,\n",
       "       2.54844452])"
      ]
     },
     "execution_count": 57,
     "metadata": {},
     "output_type": "execute_result"
    }
   ],
   "source": [
    "pred = lin_reg.predict(X_test)\n",
    "pred"
   ]
  },
  {
   "cell_type": "code",
   "execution_count": 58,
   "metadata": {},
   "outputs": [
    {
     "name": "stdout",
     "output_type": "stream",
     "text": [
      "Test set evaluation:\n",
      "_____________________________________\n",
      "MAE: 0.3936456159290873\n",
      "MSE: 0.33045049299820617\n",
      "RMSE: 0.5748482347526225\n",
      "R2 Square 0.6542380382045865\n",
      "__________________________________\n",
      "Train set evaluation:\n",
      "_____________________________________\n",
      "MAE: 0.39419386542629564\n",
      "MSE: 0.33647859242225603\n",
      "RMSE: 0.5800677481314196\n",
      "R2 Square 0.6487579893123383\n",
      "__________________________________\n"
     ]
    }
   ],
   "source": [
    "test_pred = lin_reg.predict(X_test)\n",
    "train_pred = lin_reg.predict(X_train)\n",
    "\n",
    "print('Test set evaluation:\\n_____________________________________')\n",
    "print_evaluate(y_test, test_pred)\n",
    "print('Train set evaluation:\\n_____________________________________')\n",
    "print_evaluate(y_train, train_pred)"
   ]
  },
  {
   "cell_type": "code",
   "execution_count": 59,
   "metadata": {},
   "outputs": [
    {
     "data": {
      "text/html": [
       "<div>\n",
       "<style scoped>\n",
       "    .dataframe tbody tr th:only-of-type {\n",
       "        vertical-align: middle;\n",
       "    }\n",
       "\n",
       "    .dataframe tbody tr th {\n",
       "        vertical-align: top;\n",
       "    }\n",
       "\n",
       "    .dataframe thead th {\n",
       "        text-align: right;\n",
       "    }\n",
       "</style>\n",
       "<table border=\"1\" class=\"dataframe\">\n",
       "  <thead>\n",
       "    <tr style=\"text-align: right;\">\n",
       "      <th></th>\n",
       "      <th>Model</th>\n",
       "      <th>MAE</th>\n",
       "      <th>MSE</th>\n",
       "      <th>RMSE</th>\n",
       "      <th>R2 Square</th>\n",
       "      <th>Cross Validation</th>\n",
       "    </tr>\n",
       "  </thead>\n",
       "  <tbody>\n",
       "    <tr>\n",
       "      <th>0</th>\n",
       "      <td>Linear Regression</td>\n",
       "      <td>0.393646</td>\n",
       "      <td>0.33045</td>\n",
       "      <td>0.574848</td>\n",
       "      <td>0.654238</td>\n",
       "      <td>0.040734</td>\n",
       "    </tr>\n",
       "  </tbody>\n",
       "</table>\n",
       "</div>"
      ],
      "text/plain": [
       "               Model       MAE      MSE      RMSE  R2 Square  Cross Validation\n",
       "0  Linear Regression  0.393646  0.33045  0.574848   0.654238          0.040734"
      ]
     },
     "execution_count": 59,
     "metadata": {},
     "output_type": "execute_result"
    }
   ],
   "source": [
    "results_df = pd.DataFrame(data=[[\"Linear Regression\", *evaluate(y_test, test_pred) , cross_val(LinearRegression())]], \n",
    "                          columns=['Model', 'MAE', 'MSE', 'RMSE', 'R2 Square', \"Cross Validation\"])\n",
    "results_df"
   ]
  },
  {
   "cell_type": "markdown",
   "metadata": {},
   "source": [
    "#### Linear regression score"
   ]
  },
  {
   "cell_type": "code",
   "execution_count": 60,
   "metadata": {},
   "outputs": [
    {
     "data": {
      "text/plain": [
       "0.6542380382045865"
      ]
     },
     "execution_count": 60,
     "metadata": {},
     "output_type": "execute_result"
    }
   ],
   "source": [
    "lin_reg.score(X_test,y_test)"
   ]
  },
  {
   "cell_type": "markdown",
   "metadata": {},
   "source": [
    "# RANSACRegressor Model"
   ]
  },
  {
   "cell_type": "code",
   "execution_count": 61,
   "metadata": {},
   "outputs": [
    {
     "name": "stdout",
     "output_type": "stream",
     "text": [
      "Test set evaluation:\n",
      "_____________________________________\n",
      "MAE: 0.3825242238974572\n",
      "MSE: 0.34070495564194475\n",
      "RMSE: 0.583699370945305\n",
      "R2 Square 0.643508433631486\n",
      "__________________________________\n",
      "====================================\n",
      "Train set evaluation:\n",
      "_____________________________________\n",
      "MAE: 0.38323669520139503\n",
      "MSE: 0.3553116804171649\n",
      "RMSE: 0.5960802634018048\n",
      "R2 Square 0.6290985760724965\n",
      "__________________________________\n"
     ]
    }
   ],
   "source": [
    "from sklearn.linear_model import RANSACRegressor\n",
    "\n",
    "model = RANSACRegressor(base_estimator=LinearRegression(), max_trials=100)\n",
    "model.fit(X_train, y_train)\n",
    "\n",
    "test_pred = model.predict(X_test)\n",
    "train_pred = model.predict(X_train)\n",
    "\n",
    "print('Test set evaluation:\\n_____________________________________')\n",
    "print_evaluate(y_test, test_pred)\n",
    "print('====================================')\n",
    "print('Train set evaluation:\\n_____________________________________')\n",
    "print_evaluate(y_train, train_pred)"
   ]
  },
  {
   "cell_type": "code",
   "execution_count": 62,
   "metadata": {},
   "outputs": [
    {
     "data": {
      "text/html": [
       "<div>\n",
       "<style scoped>\n",
       "    .dataframe tbody tr th:only-of-type {\n",
       "        vertical-align: middle;\n",
       "    }\n",
       "\n",
       "    .dataframe tbody tr th {\n",
       "        vertical-align: top;\n",
       "    }\n",
       "\n",
       "    .dataframe thead th {\n",
       "        text-align: right;\n",
       "    }\n",
       "</style>\n",
       "<table border=\"1\" class=\"dataframe\">\n",
       "  <thead>\n",
       "    <tr style=\"text-align: right;\">\n",
       "      <th></th>\n",
       "      <th>Model</th>\n",
       "      <th>MAE</th>\n",
       "      <th>MSE</th>\n",
       "      <th>RMSE</th>\n",
       "      <th>R2 Square</th>\n",
       "      <th>Cross Validation</th>\n",
       "    </tr>\n",
       "  </thead>\n",
       "  <tbody>\n",
       "    <tr>\n",
       "      <th>0</th>\n",
       "      <td>Linear Regression</td>\n",
       "      <td>0.393646</td>\n",
       "      <td>0.330450</td>\n",
       "      <td>0.574848</td>\n",
       "      <td>0.654238</td>\n",
       "      <td>0.040734</td>\n",
       "    </tr>\n",
       "    <tr>\n",
       "      <th>1</th>\n",
       "      <td>Robust Regression</td>\n",
       "      <td>0.382524</td>\n",
       "      <td>0.340705</td>\n",
       "      <td>0.583699</td>\n",
       "      <td>0.643508</td>\n",
       "      <td>-0.160237</td>\n",
       "    </tr>\n",
       "  </tbody>\n",
       "</table>\n",
       "</div>"
      ],
      "text/plain": [
       "               Model       MAE       MSE      RMSE  R2 Square  \\\n",
       "0  Linear Regression  0.393646  0.330450  0.574848   0.654238   \n",
       "1  Robust Regression  0.382524  0.340705  0.583699   0.643508   \n",
       "\n",
       "   Cross Validation  \n",
       "0          0.040734  \n",
       "1         -0.160237  "
      ]
     },
     "execution_count": 62,
     "metadata": {},
     "output_type": "execute_result"
    }
   ],
   "source": [
    "results_df_2 = pd.DataFrame(data=[[\"Robust Regression\", *evaluate(y_test, test_pred) , cross_val(RANSACRegressor())]], \n",
    "                            columns=['Model', 'MAE', 'MSE', 'RMSE', 'R2 Square', \"Cross Validation\"])\n",
    "results_df = results_df.append(results_df_2, ignore_index=True)\n",
    "results_df"
   ]
  },
  {
   "cell_type": "markdown",
   "metadata": {},
   "source": [
    "### RANSACRegressor Score"
   ]
  },
  {
   "cell_type": "code",
   "execution_count": 63,
   "metadata": {},
   "outputs": [
    {
     "data": {
      "text/plain": [
       "0.643508433631486"
      ]
     },
     "execution_count": 63,
     "metadata": {},
     "output_type": "execute_result"
    }
   ],
   "source": [
    "model.score(X_test,y_test)"
   ]
  },
  {
   "cell_type": "markdown",
   "metadata": {},
   "source": [
    "# Ridge Regression "
   ]
  },
  {
   "cell_type": "code",
   "execution_count": 64,
   "metadata": {},
   "outputs": [
    {
     "name": "stdout",
     "output_type": "stream",
     "text": [
      "Test set evaluation:\n",
      "_____________________________________\n",
      "MAE: 0.39364958059892735\n",
      "MSE: 0.3304514719100382\n",
      "RMSE: 0.5748490862044039\n",
      "R2 Square 0.6542370139347408\n",
      "__________________________________\n",
      "====================================\n",
      "Train set evaluation:\n",
      "_____________________________________\n",
      "MAE: 0.3941971898392855\n",
      "MSE: 0.33647897391852066\n",
      "RMSE: 0.580068076969006\n",
      "R2 Square 0.6487575910774489\n",
      "__________________________________\n"
     ]
    }
   ],
   "source": [
    "from sklearn.linear_model import Ridge\n",
    "\n",
    "model = Ridge(alpha=100, solver='cholesky', tol=0.0001, random_state=42)\n",
    "model.fit(X_train, y_train)\n",
    "pred = model.predict(X_test)\n",
    "\n",
    "test_pred = model.predict(X_test)\n",
    "train_pred = model.predict(X_train)\n",
    "\n",
    "print('Test set evaluation:\\n_____________________________________')\n",
    "print_evaluate(y_test, test_pred)\n",
    "print('====================================')\n",
    "print('Train set evaluation:\\n_____________________________________')\n",
    "print_evaluate(y_train, train_pred)"
   ]
  },
  {
   "cell_type": "code",
   "execution_count": 65,
   "metadata": {},
   "outputs": [
    {
     "data": {
      "text/html": [
       "<div>\n",
       "<style scoped>\n",
       "    .dataframe tbody tr th:only-of-type {\n",
       "        vertical-align: middle;\n",
       "    }\n",
       "\n",
       "    .dataframe tbody tr th {\n",
       "        vertical-align: top;\n",
       "    }\n",
       "\n",
       "    .dataframe thead th {\n",
       "        text-align: right;\n",
       "    }\n",
       "</style>\n",
       "<table border=\"1\" class=\"dataframe\">\n",
       "  <thead>\n",
       "    <tr style=\"text-align: right;\">\n",
       "      <th></th>\n",
       "      <th>Model</th>\n",
       "      <th>MAE</th>\n",
       "      <th>MSE</th>\n",
       "      <th>RMSE</th>\n",
       "      <th>R2 Square</th>\n",
       "      <th>Cross Validation</th>\n",
       "    </tr>\n",
       "  </thead>\n",
       "  <tbody>\n",
       "    <tr>\n",
       "      <th>0</th>\n",
       "      <td>Linear Regression</td>\n",
       "      <td>0.393646</td>\n",
       "      <td>0.330450</td>\n",
       "      <td>0.574848</td>\n",
       "      <td>0.654238</td>\n",
       "      <td>0.040734</td>\n",
       "    </tr>\n",
       "    <tr>\n",
       "      <th>1</th>\n",
       "      <td>Robust Regression</td>\n",
       "      <td>0.382524</td>\n",
       "      <td>0.340705</td>\n",
       "      <td>0.583699</td>\n",
       "      <td>0.643508</td>\n",
       "      <td>-0.160237</td>\n",
       "    </tr>\n",
       "    <tr>\n",
       "      <th>2</th>\n",
       "      <td>Ridge Regression</td>\n",
       "      <td>0.393650</td>\n",
       "      <td>0.330451</td>\n",
       "      <td>0.574849</td>\n",
       "      <td>0.654237</td>\n",
       "      <td>0.040733</td>\n",
       "    </tr>\n",
       "  </tbody>\n",
       "</table>\n",
       "</div>"
      ],
      "text/plain": [
       "               Model       MAE       MSE      RMSE  R2 Square  \\\n",
       "0  Linear Regression  0.393646  0.330450  0.574848   0.654238   \n",
       "1  Robust Regression  0.382524  0.340705  0.583699   0.643508   \n",
       "2   Ridge Regression  0.393650  0.330451  0.574849   0.654237   \n",
       "\n",
       "   Cross Validation  \n",
       "0          0.040734  \n",
       "1         -0.160237  \n",
       "2          0.040733  "
      ]
     },
     "execution_count": 65,
     "metadata": {},
     "output_type": "execute_result"
    }
   ],
   "source": [
    "results_df_2 = pd.DataFrame(data=[[\"Ridge Regression\", *evaluate(y_test, test_pred) , cross_val(Ridge())]], \n",
    "                            columns=['Model', 'MAE', 'MSE', 'RMSE', 'R2 Square', \"Cross Validation\"])\n",
    "results_df = results_df.append(results_df_2, ignore_index=True)\n",
    "results_df"
   ]
  },
  {
   "cell_type": "markdown",
   "metadata": {},
   "source": [
    "## Ridge Regression Score"
   ]
  },
  {
   "cell_type": "code",
   "execution_count": 66,
   "metadata": {},
   "outputs": [
    {
     "data": {
      "text/plain": [
       "0.6542370139347408"
      ]
     },
     "execution_count": 66,
     "metadata": {},
     "output_type": "execute_result"
    }
   ],
   "source": [
    "model.score(X_test,y_test)"
   ]
  },
  {
   "cell_type": "markdown",
   "metadata": {},
   "source": [
    "# Lasso Regression"
   ]
  },
  {
   "cell_type": "code",
   "execution_count": 67,
   "metadata": {},
   "outputs": [
    {
     "name": "stdout",
     "output_type": "stream",
     "text": [
      "Test set evaluation:\n",
      "_____________________________________\n",
      "MAE: 0.41573278084965554\n",
      "MSE: 0.3492116951728538\n",
      "RMSE: 0.5909413635656704\n",
      "R2 Square 0.6346075331607288\n",
      "__________________________________\n",
      "====================================\n",
      "Train set evaluation:\n",
      "_____________________________________\n",
      "MAE: 0.41580744939426156\n",
      "MSE: 0.35339931761195764\n",
      "RMSE: 0.5944739839656212\n",
      "R2 Square 0.6310948461829656\n",
      "__________________________________\n"
     ]
    }
   ],
   "source": [
    "from sklearn.linear_model import Lasso\n",
    "\n",
    "model = Lasso(alpha=0.1, \n",
    "              precompute=True, \n",
    "#               warm_start=True, \n",
    "              positive=True, \n",
    "              selection='random',\n",
    "              random_state=42)\n",
    "model.fit(X_train, y_train)\n",
    "\n",
    "test_pred = model.predict(X_test)\n",
    "train_pred = model.predict(X_train)\n",
    "\n",
    "print('Test set evaluation:\\n_____________________________________')\n",
    "print_evaluate(y_test, test_pred)\n",
    "print('====================================')\n",
    "print('Train set evaluation:\\n_____________________________________')\n",
    "print_evaluate(y_train, train_pred)"
   ]
  },
  {
   "cell_type": "code",
   "execution_count": 68,
   "metadata": {},
   "outputs": [
    {
     "data": {
      "text/html": [
       "<div>\n",
       "<style scoped>\n",
       "    .dataframe tbody tr th:only-of-type {\n",
       "        vertical-align: middle;\n",
       "    }\n",
       "\n",
       "    .dataframe tbody tr th {\n",
       "        vertical-align: top;\n",
       "    }\n",
       "\n",
       "    .dataframe thead th {\n",
       "        text-align: right;\n",
       "    }\n",
       "</style>\n",
       "<table border=\"1\" class=\"dataframe\">\n",
       "  <thead>\n",
       "    <tr style=\"text-align: right;\">\n",
       "      <th></th>\n",
       "      <th>Model</th>\n",
       "      <th>MAE</th>\n",
       "      <th>MSE</th>\n",
       "      <th>RMSE</th>\n",
       "      <th>R2 Square</th>\n",
       "      <th>Cross Validation</th>\n",
       "    </tr>\n",
       "  </thead>\n",
       "  <tbody>\n",
       "    <tr>\n",
       "      <th>0</th>\n",
       "      <td>Linear Regression</td>\n",
       "      <td>0.393646</td>\n",
       "      <td>0.330450</td>\n",
       "      <td>0.574848</td>\n",
       "      <td>0.654238</td>\n",
       "      <td>0.040734</td>\n",
       "    </tr>\n",
       "    <tr>\n",
       "      <th>1</th>\n",
       "      <td>Robust Regression</td>\n",
       "      <td>0.382524</td>\n",
       "      <td>0.340705</td>\n",
       "      <td>0.583699</td>\n",
       "      <td>0.643508</td>\n",
       "      <td>-0.160237</td>\n",
       "    </tr>\n",
       "    <tr>\n",
       "      <th>2</th>\n",
       "      <td>Ridge Regression</td>\n",
       "      <td>0.393650</td>\n",
       "      <td>0.330451</td>\n",
       "      <td>0.574849</td>\n",
       "      <td>0.654237</td>\n",
       "      <td>0.040733</td>\n",
       "    </tr>\n",
       "    <tr>\n",
       "      <th>3</th>\n",
       "      <td>Lasso Regression</td>\n",
       "      <td>0.415733</td>\n",
       "      <td>0.349212</td>\n",
       "      <td>0.590941</td>\n",
       "      <td>0.634608</td>\n",
       "      <td>-1.429410</td>\n",
       "    </tr>\n",
       "  </tbody>\n",
       "</table>\n",
       "</div>"
      ],
      "text/plain": [
       "               Model       MAE       MSE      RMSE  R2 Square  \\\n",
       "0  Linear Regression  0.393646  0.330450  0.574848   0.654238   \n",
       "1  Robust Regression  0.382524  0.340705  0.583699   0.643508   \n",
       "2   Ridge Regression  0.393650  0.330451  0.574849   0.654237   \n",
       "3   Lasso Regression  0.415733  0.349212  0.590941   0.634608   \n",
       "\n",
       "   Cross Validation  \n",
       "0          0.040734  \n",
       "1         -0.160237  \n",
       "2          0.040733  \n",
       "3         -1.429410  "
      ]
     },
     "execution_count": 68,
     "metadata": {},
     "output_type": "execute_result"
    }
   ],
   "source": [
    "results_df_2 = pd.DataFrame(data=[[\"Lasso Regression\", *evaluate(y_test, test_pred) , cross_val(Lasso())]], \n",
    "                            columns=['Model', 'MAE', 'MSE', 'RMSE', 'R2 Square', \"Cross Validation\"])\n",
    "results_df = results_df.append(results_df_2, ignore_index=True)\n",
    "results_df"
   ]
  },
  {
   "cell_type": "markdown",
   "metadata": {},
   "source": [
    "### Lasso Regression Score"
   ]
  },
  {
   "cell_type": "code",
   "execution_count": 69,
   "metadata": {},
   "outputs": [
    {
     "data": {
      "text/plain": [
       "0.6346075331607288"
      ]
     },
     "execution_count": 69,
     "metadata": {},
     "output_type": "execute_result"
    }
   ],
   "source": [
    "model.score(X_test,y_test)"
   ]
  },
  {
   "cell_type": "markdown",
   "metadata": {},
   "source": [
    "# ElasticNet Regression "
   ]
  },
  {
   "cell_type": "code",
   "execution_count": 70,
   "metadata": {},
   "outputs": [
    {
     "name": "stdout",
     "output_type": "stream",
     "text": [
      "Test set evaluation:\n",
      "_____________________________________\n",
      "MAE: 0.4145245459505686\n",
      "MSE: 0.3468926708870315\n",
      "RMSE: 0.5889759510260427\n",
      "R2 Square 0.6370340097540668\n",
      "__________________________________\n",
      "====================================\n",
      "Train set evaluation:\n",
      "_____________________________________\n",
      "MAE: 0.4146435081346883\n",
      "MSE: 0.3512725641950714\n",
      "RMSE: 0.5926825155132143\n",
      "R2 Square 0.6333149135608229\n",
      "__________________________________\n"
     ]
    }
   ],
   "source": [
    "from sklearn.linear_model import ElasticNet\n",
    "\n",
    "model = ElasticNet(alpha=0.1, l1_ratio=0.9, selection='random', random_state=42)\n",
    "model.fit(X_train, y_train)\n",
    "\n",
    "test_pred = model.predict(X_test)\n",
    "train_pred = model.predict(X_train)\n",
    "\n",
    "print('Test set evaluation:\\n_____________________________________')\n",
    "print_evaluate(y_test, test_pred)\n",
    "print('====================================')\n",
    "print('Train set evaluation:\\n_____________________________________')\n",
    "print_evaluate(y_train, train_pred)"
   ]
  },
  {
   "cell_type": "code",
   "execution_count": 71,
   "metadata": {},
   "outputs": [
    {
     "data": {
      "text/html": [
       "<div>\n",
       "<style scoped>\n",
       "    .dataframe tbody tr th:only-of-type {\n",
       "        vertical-align: middle;\n",
       "    }\n",
       "\n",
       "    .dataframe tbody tr th {\n",
       "        vertical-align: top;\n",
       "    }\n",
       "\n",
       "    .dataframe thead th {\n",
       "        text-align: right;\n",
       "    }\n",
       "</style>\n",
       "<table border=\"1\" class=\"dataframe\">\n",
       "  <thead>\n",
       "    <tr style=\"text-align: right;\">\n",
       "      <th></th>\n",
       "      <th>Model</th>\n",
       "      <th>MAE</th>\n",
       "      <th>MSE</th>\n",
       "      <th>RMSE</th>\n",
       "      <th>R2 Square</th>\n",
       "      <th>Cross Validation</th>\n",
       "    </tr>\n",
       "  </thead>\n",
       "  <tbody>\n",
       "    <tr>\n",
       "      <th>0</th>\n",
       "      <td>Linear Regression</td>\n",
       "      <td>0.393646</td>\n",
       "      <td>0.330450</td>\n",
       "      <td>0.574848</td>\n",
       "      <td>0.654238</td>\n",
       "      <td>0.040734</td>\n",
       "    </tr>\n",
       "    <tr>\n",
       "      <th>1</th>\n",
       "      <td>Robust Regression</td>\n",
       "      <td>0.382524</td>\n",
       "      <td>0.340705</td>\n",
       "      <td>0.583699</td>\n",
       "      <td>0.643508</td>\n",
       "      <td>-0.160237</td>\n",
       "    </tr>\n",
       "    <tr>\n",
       "      <th>2</th>\n",
       "      <td>Ridge Regression</td>\n",
       "      <td>0.393650</td>\n",
       "      <td>0.330451</td>\n",
       "      <td>0.574849</td>\n",
       "      <td>0.654237</td>\n",
       "      <td>0.040733</td>\n",
       "    </tr>\n",
       "    <tr>\n",
       "      <th>3</th>\n",
       "      <td>Lasso Regression</td>\n",
       "      <td>0.415733</td>\n",
       "      <td>0.349212</td>\n",
       "      <td>0.590941</td>\n",
       "      <td>0.634608</td>\n",
       "      <td>-1.429410</td>\n",
       "    </tr>\n",
       "    <tr>\n",
       "      <th>4</th>\n",
       "      <td>Elastic Net Regression</td>\n",
       "      <td>0.414525</td>\n",
       "      <td>0.346893</td>\n",
       "      <td>0.588976</td>\n",
       "      <td>0.637034</td>\n",
       "      <td>-1.069729</td>\n",
       "    </tr>\n",
       "  </tbody>\n",
       "</table>\n",
       "</div>"
      ],
      "text/plain": [
       "                    Model       MAE       MSE      RMSE  R2 Square  \\\n",
       "0       Linear Regression  0.393646  0.330450  0.574848   0.654238   \n",
       "1       Robust Regression  0.382524  0.340705  0.583699   0.643508   \n",
       "2        Ridge Regression  0.393650  0.330451  0.574849   0.654237   \n",
       "3        Lasso Regression  0.415733  0.349212  0.590941   0.634608   \n",
       "4  Elastic Net Regression  0.414525  0.346893  0.588976   0.637034   \n",
       "\n",
       "   Cross Validation  \n",
       "0          0.040734  \n",
       "1         -0.160237  \n",
       "2          0.040733  \n",
       "3         -1.429410  \n",
       "4         -1.069729  "
      ]
     },
     "execution_count": 71,
     "metadata": {},
     "output_type": "execute_result"
    }
   ],
   "source": [
    "results_df_2 = pd.DataFrame(data=[[\"Elastic Net Regression\", *evaluate(y_test, test_pred) , cross_val(ElasticNet())]], \n",
    "                            columns=['Model', 'MAE', 'MSE', 'RMSE', 'R2 Square', \"Cross Validation\"])\n",
    "results_df = results_df.append(results_df_2, ignore_index=True)\n",
    "results_df"
   ]
  },
  {
   "cell_type": "markdown",
   "metadata": {},
   "source": [
    "## ElasticNet Regression Score "
   ]
  },
  {
   "cell_type": "code",
   "execution_count": 72,
   "metadata": {},
   "outputs": [
    {
     "data": {
      "text/plain": [
       "0.6370340097540668"
      ]
     },
     "execution_count": 72,
     "metadata": {},
     "output_type": "execute_result"
    }
   ],
   "source": [
    "model.score(X_test,y_test)"
   ]
  },
  {
   "cell_type": "markdown",
   "metadata": {},
   "source": [
    "# PolynomialFeatures Regression"
   ]
  },
  {
   "cell_type": "code",
   "execution_count": 73,
   "metadata": {},
   "outputs": [
    {
     "name": "stdout",
     "output_type": "stream",
     "text": [
      "Test set evaluation:\n",
      "_____________________________________\n",
      "MAE: 0.3750115744594384\n",
      "MSE: 0.2976023593869974\n",
      "RMSE: 0.5455294303582506\n",
      "R2 Square 0.688608194580147\n",
      "__________________________________\n",
      "====================================\n",
      "Train set evaluation:\n",
      "_____________________________________\n",
      "MAE: 0.3749288095704686\n",
      "MSE: 0.2966743768403076\n",
      "RMSE: 0.5446782323907461\n",
      "R2 Square 0.690308664540151\n",
      "__________________________________\n"
     ]
    }
   ],
   "source": [
    "from sklearn.preprocessing import PolynomialFeatures\n",
    "\n",
    "poly_reg = PolynomialFeatures(degree=2)\n",
    "\n",
    "X_train_2_d = poly_reg.fit_transform(X_train)\n",
    "X_test_2_d = poly_reg.transform(X_test)\n",
    "\n",
    "lin_reg = LinearRegression(normalize=True)\n",
    "lin_reg.fit(X_train_2_d,y_train)\n",
    "\n",
    "test_pred = lin_reg.predict(X_test_2_d)\n",
    "train_pred = lin_reg.predict(X_train_2_d)\n",
    "\n",
    "print('Test set evaluation:\\n_____________________________________')\n",
    "print_evaluate(y_test, test_pred)\n",
    "print('====================================')\n",
    "print('Train set evaluation:\\n_____________________________________')\n",
    "print_evaluate(y_train, train_pred)"
   ]
  },
  {
   "cell_type": "code",
   "execution_count": 74,
   "metadata": {},
   "outputs": [
    {
     "data": {
      "text/html": [
       "<div>\n",
       "<style scoped>\n",
       "    .dataframe tbody tr th:only-of-type {\n",
       "        vertical-align: middle;\n",
       "    }\n",
       "\n",
       "    .dataframe tbody tr th {\n",
       "        vertical-align: top;\n",
       "    }\n",
       "\n",
       "    .dataframe thead th {\n",
       "        text-align: right;\n",
       "    }\n",
       "</style>\n",
       "<table border=\"1\" class=\"dataframe\">\n",
       "  <thead>\n",
       "    <tr style=\"text-align: right;\">\n",
       "      <th></th>\n",
       "      <th>Model</th>\n",
       "      <th>MAE</th>\n",
       "      <th>MSE</th>\n",
       "      <th>RMSE</th>\n",
       "      <th>R2 Square</th>\n",
       "      <th>Cross Validation</th>\n",
       "    </tr>\n",
       "  </thead>\n",
       "  <tbody>\n",
       "    <tr>\n",
       "      <th>0</th>\n",
       "      <td>Linear Regression</td>\n",
       "      <td>0.393646</td>\n",
       "      <td>0.330450</td>\n",
       "      <td>0.574848</td>\n",
       "      <td>0.654238</td>\n",
       "      <td>0.040734</td>\n",
       "    </tr>\n",
       "    <tr>\n",
       "      <th>1</th>\n",
       "      <td>Robust Regression</td>\n",
       "      <td>0.382524</td>\n",
       "      <td>0.340705</td>\n",
       "      <td>0.583699</td>\n",
       "      <td>0.643508</td>\n",
       "      <td>-0.160237</td>\n",
       "    </tr>\n",
       "    <tr>\n",
       "      <th>2</th>\n",
       "      <td>Ridge Regression</td>\n",
       "      <td>0.393650</td>\n",
       "      <td>0.330451</td>\n",
       "      <td>0.574849</td>\n",
       "      <td>0.654237</td>\n",
       "      <td>0.040733</td>\n",
       "    </tr>\n",
       "    <tr>\n",
       "      <th>3</th>\n",
       "      <td>Lasso Regression</td>\n",
       "      <td>0.415733</td>\n",
       "      <td>0.349212</td>\n",
       "      <td>0.590941</td>\n",
       "      <td>0.634608</td>\n",
       "      <td>-1.429410</td>\n",
       "    </tr>\n",
       "    <tr>\n",
       "      <th>4</th>\n",
       "      <td>Elastic Net Regression</td>\n",
       "      <td>0.414525</td>\n",
       "      <td>0.346893</td>\n",
       "      <td>0.588976</td>\n",
       "      <td>0.637034</td>\n",
       "      <td>-1.069729</td>\n",
       "    </tr>\n",
       "    <tr>\n",
       "      <th>5</th>\n",
       "      <td>Polynomail Regression</td>\n",
       "      <td>0.375012</td>\n",
       "      <td>0.297602</td>\n",
       "      <td>0.545529</td>\n",
       "      <td>0.688608</td>\n",
       "      <td>0.000000</td>\n",
       "    </tr>\n",
       "  </tbody>\n",
       "</table>\n",
       "</div>"
      ],
      "text/plain": [
       "                    Model       MAE       MSE      RMSE  R2 Square  \\\n",
       "0       Linear Regression  0.393646  0.330450  0.574848   0.654238   \n",
       "1       Robust Regression  0.382524  0.340705  0.583699   0.643508   \n",
       "2        Ridge Regression  0.393650  0.330451  0.574849   0.654237   \n",
       "3        Lasso Regression  0.415733  0.349212  0.590941   0.634608   \n",
       "4  Elastic Net Regression  0.414525  0.346893  0.588976   0.637034   \n",
       "5   Polynomail Regression  0.375012  0.297602  0.545529   0.688608   \n",
       "\n",
       "   Cross Validation  \n",
       "0          0.040734  \n",
       "1         -0.160237  \n",
       "2          0.040733  \n",
       "3         -1.429410  \n",
       "4         -1.069729  \n",
       "5          0.000000  "
      ]
     },
     "execution_count": 74,
     "metadata": {},
     "output_type": "execute_result"
    }
   ],
   "source": [
    "results_df_2 = pd.DataFrame(data=[[\"Polynomail Regression\", *evaluate(y_test, test_pred), 0]], \n",
    "                            columns=['Model', 'MAE', 'MSE', 'RMSE', 'R2 Square', 'Cross Validation'])\n",
    "results_df = results_df.append(results_df_2, ignore_index=True)\n",
    "results_df"
   ]
  },
  {
   "cell_type": "markdown",
   "metadata": {},
   "source": [
    "# SGDRegressor"
   ]
  },
  {
   "cell_type": "code",
   "execution_count": 75,
   "metadata": {},
   "outputs": [
    {
     "name": "stdout",
     "output_type": "stream",
     "text": [
      "Test set evaluation:\n",
      "_____________________________________\n",
      "MAE: 0.3944930254615763\n",
      "MSE: 0.3311713575358806\n",
      "RMSE: 0.5754748973985578\n",
      "R2 Square 0.6534837723099478\n",
      "__________________________________\n",
      "====================================\n",
      "Train set evaluation:\n",
      "_____________________________________\n",
      "MAE: 0.39501324005670474\n",
      "MSE: 0.33664508772851937\n",
      "RMSE: 0.5802112440555761\n",
      "R2 Square 0.6485841888166782\n",
      "__________________________________\n"
     ]
    }
   ],
   "source": [
    "from sklearn.linear_model import SGDRegressor\n",
    "\n",
    "sgd_reg = SGDRegressor(n_iter_no_change=250, penalty=None, eta0=0.0001, max_iter=100000)\n",
    "sgd_reg.fit(X_train, y_train)\n",
    "\n",
    "test_pred = sgd_reg.predict(X_test)\n",
    "train_pred = sgd_reg.predict(X_train)\n",
    "\n",
    "print('Test set evaluation:\\n_____________________________________')\n",
    "print_evaluate(y_test, test_pred)\n",
    "print('====================================')\n",
    "print('Train set evaluation:\\n_____________________________________')\n",
    "print_evaluate(y_train, train_pred)\n"
   ]
  },
  {
   "cell_type": "code",
   "execution_count": 76,
   "metadata": {},
   "outputs": [
    {
     "data": {
      "text/html": [
       "<div>\n",
       "<style scoped>\n",
       "    .dataframe tbody tr th:only-of-type {\n",
       "        vertical-align: middle;\n",
       "    }\n",
       "\n",
       "    .dataframe tbody tr th {\n",
       "        vertical-align: top;\n",
       "    }\n",
       "\n",
       "    .dataframe thead th {\n",
       "        text-align: right;\n",
       "    }\n",
       "</style>\n",
       "<table border=\"1\" class=\"dataframe\">\n",
       "  <thead>\n",
       "    <tr style=\"text-align: right;\">\n",
       "      <th></th>\n",
       "      <th>Model</th>\n",
       "      <th>MAE</th>\n",
       "      <th>MSE</th>\n",
       "      <th>RMSE</th>\n",
       "      <th>R2 Square</th>\n",
       "      <th>Cross Validation</th>\n",
       "    </tr>\n",
       "  </thead>\n",
       "  <tbody>\n",
       "    <tr>\n",
       "      <th>0</th>\n",
       "      <td>Linear Regression</td>\n",
       "      <td>0.393646</td>\n",
       "      <td>0.330450</td>\n",
       "      <td>0.574848</td>\n",
       "      <td>0.654238</td>\n",
       "      <td>0.040734</td>\n",
       "    </tr>\n",
       "    <tr>\n",
       "      <th>1</th>\n",
       "      <td>Robust Regression</td>\n",
       "      <td>0.382524</td>\n",
       "      <td>0.340705</td>\n",
       "      <td>0.583699</td>\n",
       "      <td>0.643508</td>\n",
       "      <td>-0.160237</td>\n",
       "    </tr>\n",
       "    <tr>\n",
       "      <th>2</th>\n",
       "      <td>Ridge Regression</td>\n",
       "      <td>0.393650</td>\n",
       "      <td>0.330451</td>\n",
       "      <td>0.574849</td>\n",
       "      <td>0.654237</td>\n",
       "      <td>0.040733</td>\n",
       "    </tr>\n",
       "    <tr>\n",
       "      <th>3</th>\n",
       "      <td>Lasso Regression</td>\n",
       "      <td>0.415733</td>\n",
       "      <td>0.349212</td>\n",
       "      <td>0.590941</td>\n",
       "      <td>0.634608</td>\n",
       "      <td>-1.429410</td>\n",
       "    </tr>\n",
       "    <tr>\n",
       "      <th>4</th>\n",
       "      <td>Elastic Net Regression</td>\n",
       "      <td>0.414525</td>\n",
       "      <td>0.346893</td>\n",
       "      <td>0.588976</td>\n",
       "      <td>0.637034</td>\n",
       "      <td>-1.069729</td>\n",
       "    </tr>\n",
       "    <tr>\n",
       "      <th>5</th>\n",
       "      <td>Polynomail Regression</td>\n",
       "      <td>0.375012</td>\n",
       "      <td>0.297602</td>\n",
       "      <td>0.545529</td>\n",
       "      <td>0.688608</td>\n",
       "      <td>0.000000</td>\n",
       "    </tr>\n",
       "    <tr>\n",
       "      <th>6</th>\n",
       "      <td>Stochastic Gradient Descent</td>\n",
       "      <td>0.394493</td>\n",
       "      <td>0.331171</td>\n",
       "      <td>0.575475</td>\n",
       "      <td>0.653484</td>\n",
       "      <td>0.000000</td>\n",
       "    </tr>\n",
       "  </tbody>\n",
       "</table>\n",
       "</div>"
      ],
      "text/plain": [
       "                         Model       MAE       MSE      RMSE  R2 Square  \\\n",
       "0            Linear Regression  0.393646  0.330450  0.574848   0.654238   \n",
       "1            Robust Regression  0.382524  0.340705  0.583699   0.643508   \n",
       "2             Ridge Regression  0.393650  0.330451  0.574849   0.654237   \n",
       "3             Lasso Regression  0.415733  0.349212  0.590941   0.634608   \n",
       "4       Elastic Net Regression  0.414525  0.346893  0.588976   0.637034   \n",
       "5        Polynomail Regression  0.375012  0.297602  0.545529   0.688608   \n",
       "6  Stochastic Gradient Descent  0.394493  0.331171  0.575475   0.653484   \n",
       "\n",
       "   Cross Validation  \n",
       "0          0.040734  \n",
       "1         -0.160237  \n",
       "2          0.040733  \n",
       "3         -1.429410  \n",
       "4         -1.069729  \n",
       "5          0.000000  \n",
       "6          0.000000  "
      ]
     },
     "execution_count": 76,
     "metadata": {},
     "output_type": "execute_result"
    }
   ],
   "source": [
    "results_df_2 = pd.DataFrame(data=[[\"Stochastic Gradient Descent\", *evaluate(y_test, test_pred), 0]], \n",
    "                            columns=['Model', 'MAE', 'MSE', 'RMSE', 'R2 Square', 'Cross Validation'])\n",
    "results_df = results_df.append(results_df_2, ignore_index=True)\n",
    "results_df"
   ]
  },
  {
   "cell_type": "markdown",
   "metadata": {},
   "source": [
    "# SGDRegressor Score"
   ]
  },
  {
   "cell_type": "code",
   "execution_count": 77,
   "metadata": {},
   "outputs": [
    {
     "data": {
      "text/plain": [
       "0.6534837723099478"
      ]
     },
     "execution_count": 77,
     "metadata": {},
     "output_type": "execute_result"
    }
   ],
   "source": [
    "sgd_reg.score(X_test,y_test)"
   ]
  },
  {
   "cell_type": "markdown",
   "metadata": {},
   "source": [
    "# Below Graph shows the best Accuracy score model, here it shows polynomial Regression which is 70 %"
   ]
  },
  {
   "cell_type": "code",
   "execution_count": 78,
   "metadata": {},
   "outputs": [
    {
     "data": {
      "text/plain": [
       "<AxesSubplot:ylabel='Model'>"
      ]
     },
     "execution_count": 78,
     "metadata": {},
     "output_type": "execute_result"
    },
    {
     "data": {
      "image/png": "[encoded data removed]",
      "text/plain": [
       "<Figure size 864x576 with 1 Axes>"
      ]
     },
     "metadata": {},
     "output_type": "display_data"
    }
   ],
   "source": [
    "results_df.set_index('Model', inplace=True)\n",
    "results_df['R2 Square'].plot(kind='barh', figsize=(12, 8))"
   ]
  },
  {
   "cell_type": "markdown",
   "metadata": {},
   "source": [
    "#### Overall implemeting the hyperparameter ML techniques using decision tree regressor gave the model with best results and with some basic data mining ML techniques we can see polynomial regression provides the best fit for this model"
   ]
  }
 ],
 "metadata": {
  "kernelspec": {
   "display_name": "Python 3",
   "language": "python",
   "name": "python3"
  },
  "language_info": {
   "codemirror_mode": {
    "name": "ipython",
    "version": 3
   },
   "file_extension": ".py",
   "mimetype": "text/x-python",
   "name": "python",
   "nbconvert_exporter": "python",
   "pygments_lexer": "ipython3",
   "version": "3.8.5"
  }
 },
 "nbformat": 4,
 "nbformat_minor": 4
}
